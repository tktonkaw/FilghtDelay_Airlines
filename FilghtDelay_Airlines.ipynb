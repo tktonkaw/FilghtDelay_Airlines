{
 "cells": [
  {
   "cell_type": "markdown",
   "metadata": {},
   "source": [
    "   #           --------------------------------- Project The Plane Arrive Late -------------------------------------"
   ]
  },
  {
   "cell_type": "markdown",
   "metadata": {},
   "source": [
    "###   ** Input Data From Google Cloud Storage"
   ]
  },
  {
   "cell_type": "code",
   "execution_count": 1,
   "metadata": {},
   "outputs": [
    {
     "name": "stdout",
     "output_type": "stream",
     "text": [
      "put: `/user/cloudera/input': No such file or directory: `hdfs://testdataproc-m/user/cloudera/input'\r\n"
     ]
    }
   ],
   "source": [
    "!hadoop fs -put Train.csv /user/cloudera/input"
   ]
  },
  {
   "cell_type": "code",
   "execution_count": 2,
   "metadata": {},
   "outputs": [],
   "source": [
    "airline_rdd = spark.read.csv('gs://ku-flight/Train.csv',header=True)"
   ]
  },
  {
   "cell_type": "code",
   "execution_count": 3,
   "metadata": {},
   "outputs": [],
   "source": [
    "data_test = spark.read.csv('gs://ku-flight/Test.csv',header=True)"
   ]
  },
  {
   "cell_type": "code",
   "execution_count": 4,
   "metadata": {},
   "outputs": [
    {
     "data": {
      "text/plain": [
       "7009728"
      ]
     },
     "execution_count": 4,
     "metadata": {},
     "output_type": "execute_result"
    }
   ],
   "source": [
    "airline_rdd.count()"
   ]
  },
  {
   "cell_type": "code",
   "execution_count": 5,
   "metadata": {},
   "outputs": [
    {
     "data": {
      "text/plain": [
       "7009728"
      ]
     },
     "execution_count": 5,
     "metadata": {},
     "output_type": "execute_result"
    }
   ],
   "source": [
    "data_test.count()"
   ]
  },
  {
   "cell_type": "code",
   "execution_count": 6,
   "metadata": {},
   "outputs": [
    {
     "name": "stdout",
     "output_type": "stream",
     "text": [
      "+----+-----+----------+---------+-------+----------+-------+----------+-------------+---------+-------+-----------------+--------------+-------+--------+--------+------+----+--------+------+-------+---------+----------------+--------+------------+------------+--------+-------------+-----------------+\n",
      "|Year|Month|DayofMonth|DayOfWeek|DepTime|CRSDepTime|ArrTime|CRSArrTime|UniqueCarrier|FlightNum|TailNum|ActualElapsedTime|CRSElapsedTime|AirTime|ArrDelay|DepDelay|Origin|Dest|Distance|TaxiIn|TaxiOut|Cancelled|CancellationCode|Diverted|CarrierDelay|WeatherDelay|NASDelay|SecurityDelay|LateAircraftDelay|\n",
      "+----+-----+----------+---------+-------+----------+-------+----------+-------------+---------+-------+-----------------+--------------+-------+--------+--------+------+----+--------+------+-------+---------+----------------+--------+------------+------------+--------+-------------+-----------------+\n",
      "|2008|    1|         3|        4|   2003|      1955|   2211|      2225|           WN|      335| N712SW|              128|           150|    116|     -14|       8|   IAD| TPA|     810|     4|      8|        0|            null|       0|          NA|          NA|      NA|           NA|               NA|\n",
      "|2008|    1|         3|        4|    754|       735|   1002|      1000|           WN|     3231| N772SW|              128|           145|    113|       2|      19|   IAD| TPA|     810|     5|     10|        0|            null|       0|          NA|          NA|      NA|           NA|               NA|\n",
      "|2008|    1|         3|        4|    628|       620|    804|       750|           WN|      448| N428WN|               96|            90|     76|      14|       8|   IND| BWI|     515|     3|     17|        0|            null|       0|          NA|          NA|      NA|           NA|               NA|\n",
      "|2008|    1|         3|        4|    926|       930|   1054|      1100|           WN|     1746| N612SW|               88|            90|     78|      -6|      -4|   IND| BWI|     515|     3|      7|        0|            null|       0|          NA|          NA|      NA|           NA|               NA|\n",
      "|2008|    1|         3|        4|   1829|      1755|   1959|      1925|           WN|     3920| N464WN|               90|            90|     77|      34|      34|   IND| BWI|     515|     3|     10|        0|            null|       0|           2|           0|       0|            0|               32|\n",
      "|2008|    1|         3|        4|   1940|      1915|   2121|      2110|           WN|      378| N726SW|              101|           115|     87|      11|      25|   IND| JAX|     688|     4|     10|        0|            null|       0|          NA|          NA|      NA|           NA|               NA|\n",
      "|2008|    1|         3|        4|   1937|      1830|   2037|      1940|           WN|      509| N763SW|              240|           250|    230|      57|      67|   IND| LAS|    1591|     3|      7|        0|            null|       0|          10|           0|       0|            0|               47|\n",
      "|2008|    1|         3|        4|   1039|      1040|   1132|      1150|           WN|      535| N428WN|              233|           250|    219|     -18|      -1|   IND| LAS|    1591|     7|      7|        0|            null|       0|          NA|          NA|      NA|           NA|               NA|\n",
      "|2008|    1|         3|        4|    617|       615|    652|       650|           WN|       11| N689SW|               95|            95|     70|       2|       2|   IND| MCI|     451|     6|     19|        0|            null|       0|          NA|          NA|      NA|           NA|               NA|\n",
      "|2008|    1|         3|        4|   1620|      1620|   1639|      1655|           WN|      810| N648SW|               79|            95|     70|     -16|       0|   IND| MCI|     451|     3|      6|        0|            null|       0|          NA|          NA|      NA|           NA|               NA|\n",
      "|2008|    1|         3|        4|    706|       700|    916|       915|           WN|      100| N690SW|              130|           135|    106|       1|       6|   IND| MCO|     828|     5|     19|        0|            null|       0|          NA|          NA|      NA|           NA|               NA|\n",
      "|2008|    1|         3|        4|   1644|      1510|   1845|      1725|           WN|     1333| N334SW|              121|           135|    107|      80|      94|   IND| MCO|     828|     6|      8|        0|            null|       0|           8|           0|       0|            0|               72|\n",
      "|2008|    1|         3|        4|   1426|      1430|   1426|      1425|           WN|      829| N476WN|               60|            55|     39|       1|      -4|   IND| MDW|     162|     9|     12|        0|            null|       0|          NA|          NA|      NA|           NA|               NA|\n",
      "|2008|    1|         3|        4|    715|       715|    720|       710|           WN|     1016| N765SW|               65|            55|     37|      10|       0|   IND| MDW|     162|     7|     21|        0|            null|       0|          NA|          NA|      NA|           NA|               NA|\n",
      "|2008|    1|         3|        4|   1702|      1700|   1651|      1655|           WN|     1827| N420WN|               49|            55|     35|      -4|       2|   IND| MDW|     162|     4|     10|        0|            null|       0|          NA|          NA|      NA|           NA|               NA|\n",
      "|2008|    1|         3|        4|   1029|      1020|   1021|      1010|           WN|     2272| N263WN|               52|            50|     37|      11|       9|   IND| MDW|     162|     6|      9|        0|            null|       0|          NA|          NA|      NA|           NA|               NA|\n",
      "|2008|    1|         3|        4|   1452|      1425|   1640|      1625|           WN|      675| N286WN|              228|           240|    213|      15|      27|   IND| PHX|    1489|     7|      8|        0|            null|       0|           3|           0|       0|            0|               12|\n",
      "|2008|    1|         3|        4|    754|       745|    940|       955|           WN|     1144| N778SW|              226|           250|    205|     -15|       9|   IND| PHX|    1489|     5|     16|        0|            null|       0|          NA|          NA|      NA|           NA|               NA|\n",
      "|2008|    1|         3|        4|   1323|      1255|   1526|      1510|           WN|        4| N674AA|              123|           135|    110|      16|      28|   IND| TPA|     838|     4|      9|        0|            null|       0|           0|           0|       0|            0|               16|\n",
      "|2008|    1|         3|        4|   1416|      1325|   1512|      1435|           WN|       54| N643SW|               56|            70|     49|      37|      51|   ISP| BWI|     220|     2|      5|        0|            null|       0|          12|           0|       0|            0|               25|\n",
      "+----+-----+----------+---------+-------+----------+-------+----------+-------------+---------+-------+-----------------+--------------+-------+--------+--------+------+----+--------+------+-------+---------+----------------+--------+------------+------------+--------+-------------+-----------------+\n",
      "only showing top 20 rows\n",
      "\n"
     ]
    }
   ],
   "source": [
    "airline_rdd.show()"
   ]
  },
  {
   "cell_type": "code",
   "execution_count": 7,
   "metadata": {
    "scrolled": true
   },
   "outputs": [
    {
     "name": "stdout",
     "output_type": "stream",
     "text": [
      "root\n",
      " |-- Year: string (nullable = true)\n",
      " |-- Month: string (nullable = true)\n",
      " |-- DayofMonth: string (nullable = true)\n",
      " |-- DayOfWeek: string (nullable = true)\n",
      " |-- DepTime: string (nullable = true)\n",
      " |-- CRSDepTime: string (nullable = true)\n",
      " |-- ArrTime: string (nullable = true)\n",
      " |-- CRSArrTime: string (nullable = true)\n",
      " |-- UniqueCarrier: string (nullable = true)\n",
      " |-- FlightNum: string (nullable = true)\n",
      " |-- TailNum: string (nullable = true)\n",
      " |-- ActualElapsedTime: string (nullable = true)\n",
      " |-- CRSElapsedTime: string (nullable = true)\n",
      " |-- AirTime: string (nullable = true)\n",
      " |-- ArrDelay: string (nullable = true)\n",
      " |-- DepDelay: string (nullable = true)\n",
      " |-- Origin: string (nullable = true)\n",
      " |-- Dest: string (nullable = true)\n",
      " |-- Distance: string (nullable = true)\n",
      " |-- TaxiIn: string (nullable = true)\n",
      " |-- TaxiOut: string (nullable = true)\n",
      " |-- Cancelled: string (nullable = true)\n",
      " |-- CancellationCode: string (nullable = true)\n",
      " |-- Diverted: string (nullable = true)\n",
      " |-- CarrierDelay: string (nullable = true)\n",
      " |-- WeatherDelay: string (nullable = true)\n",
      " |-- NASDelay: string (nullable = true)\n",
      " |-- SecurityDelay: string (nullable = true)\n",
      " |-- LateAircraftDelay: string (nullable = true)\n",
      "\n"
     ]
    }
   ],
   "source": [
    "airline_rdd.printSchema()"
   ]
  },
  {
   "cell_type": "code",
   "execution_count": 8,
   "metadata": {},
   "outputs": [
    {
     "data": {
      "text/plain": [
       "[('Year', 'string'),\n",
       " ('Month', 'string'),\n",
       " ('DayofMonth', 'string'),\n",
       " ('DayOfWeek', 'string'),\n",
       " ('DepTime', 'string'),\n",
       " ('CRSDepTime', 'string'),\n",
       " ('ArrTime', 'string'),\n",
       " ('CRSArrTime', 'string'),\n",
       " ('UniqueCarrier', 'string'),\n",
       " ('FlightNum', 'string'),\n",
       " ('TailNum', 'string'),\n",
       " ('ActualElapsedTime', 'string'),\n",
       " ('CRSElapsedTime', 'string'),\n",
       " ('AirTime', 'string'),\n",
       " ('ArrDelay', 'string'),\n",
       " ('DepDelay', 'string'),\n",
       " ('Origin', 'string'),\n",
       " ('Dest', 'string'),\n",
       " ('Distance', 'string'),\n",
       " ('TaxiIn', 'string'),\n",
       " ('TaxiOut', 'string'),\n",
       " ('Cancelled', 'string'),\n",
       " ('CancellationCode', 'string'),\n",
       " ('Diverted', 'string'),\n",
       " ('CarrierDelay', 'string'),\n",
       " ('WeatherDelay', 'string'),\n",
       " ('NASDelay', 'string'),\n",
       " ('SecurityDelay', 'string'),\n",
       " ('LateAircraftDelay', 'string')]"
      ]
     },
     "execution_count": 8,
     "metadata": {},
     "output_type": "execute_result"
    }
   ],
   "source": [
    "airline_rdd.dtypes"
   ]
  },
  {
   "cell_type": "code",
   "execution_count": 9,
   "metadata": {},
   "outputs": [],
   "source": [
    "header_text = airline_rdd.first()"
   ]
  },
  {
   "cell_type": "code",
   "execution_count": 10,
   "metadata": {},
   "outputs": [],
   "source": [
    "#airline_noheader_rdd = airline_rdd.filter(lambda row: row!= header_text)"
   ]
  },
  {
   "cell_type": "code",
   "execution_count": 11,
   "metadata": {},
   "outputs": [],
   "source": [
    "#fieldname_list = header_text.split(',')"
   ]
  },
  {
   "cell_type": "code",
   "execution_count": 12,
   "metadata": {},
   "outputs": [],
   "source": [
    "airline_rdd.registerTempTable(\"airlines\")"
   ]
  },
  {
   "cell_type": "code",
   "execution_count": 13,
   "metadata": {},
   "outputs": [
    {
     "name": "stdout",
     "output_type": "stream",
     "text": [
      "+----+-----+----------+---------+-------+----------+-------+----------+-------------+---------+-------+-----------------+--------------+-------+--------+--------+------+----+--------+------+-------+---------+----------------+--------+------------+------------+--------+-------------+-----------------+\n",
      "|Year|Month|DayofMonth|DayOfWeek|DepTime|CRSDepTime|ArrTime|CRSArrTime|UniqueCarrier|FlightNum|TailNum|ActualElapsedTime|CRSElapsedTime|AirTime|ArrDelay|DepDelay|Origin|Dest|Distance|TaxiIn|TaxiOut|Cancelled|CancellationCode|Diverted|CarrierDelay|WeatherDelay|NASDelay|SecurityDelay|LateAircraftDelay|\n",
      "+----+-----+----------+---------+-------+----------+-------+----------+-------------+---------+-------+-----------------+--------------+-------+--------+--------+------+----+--------+------+-------+---------+----------------+--------+------------+------------+--------+-------------+-----------------+\n",
      "|2008|    1|         3|        4|   2003|      1955|   2211|      2225|           WN|      335| N712SW|              128|           150|    116|     -14|       8|   IAD| TPA|     810|     4|      8|        0|            null|       0|          NA|          NA|      NA|           NA|               NA|\n",
      "|2008|    1|         3|        4|    754|       735|   1002|      1000|           WN|     3231| N772SW|              128|           145|    113|       2|      19|   IAD| TPA|     810|     5|     10|        0|            null|       0|          NA|          NA|      NA|           NA|               NA|\n",
      "|2008|    1|         3|        4|    628|       620|    804|       750|           WN|      448| N428WN|               96|            90|     76|      14|       8|   IND| BWI|     515|     3|     17|        0|            null|       0|          NA|          NA|      NA|           NA|               NA|\n",
      "|2008|    1|         3|        4|    926|       930|   1054|      1100|           WN|     1746| N612SW|               88|            90|     78|      -6|      -4|   IND| BWI|     515|     3|      7|        0|            null|       0|          NA|          NA|      NA|           NA|               NA|\n",
      "|2008|    1|         3|        4|   1829|      1755|   1959|      1925|           WN|     3920| N464WN|               90|            90|     77|      34|      34|   IND| BWI|     515|     3|     10|        0|            null|       0|           2|           0|       0|            0|               32|\n",
      "|2008|    1|         3|        4|   1940|      1915|   2121|      2110|           WN|      378| N726SW|              101|           115|     87|      11|      25|   IND| JAX|     688|     4|     10|        0|            null|       0|          NA|          NA|      NA|           NA|               NA|\n",
      "|2008|    1|         3|        4|   1937|      1830|   2037|      1940|           WN|      509| N763SW|              240|           250|    230|      57|      67|   IND| LAS|    1591|     3|      7|        0|            null|       0|          10|           0|       0|            0|               47|\n",
      "|2008|    1|         3|        4|   1039|      1040|   1132|      1150|           WN|      535| N428WN|              233|           250|    219|     -18|      -1|   IND| LAS|    1591|     7|      7|        0|            null|       0|          NA|          NA|      NA|           NA|               NA|\n",
      "|2008|    1|         3|        4|    617|       615|    652|       650|           WN|       11| N689SW|               95|            95|     70|       2|       2|   IND| MCI|     451|     6|     19|        0|            null|       0|          NA|          NA|      NA|           NA|               NA|\n",
      "|2008|    1|         3|        4|   1620|      1620|   1639|      1655|           WN|      810| N648SW|               79|            95|     70|     -16|       0|   IND| MCI|     451|     3|      6|        0|            null|       0|          NA|          NA|      NA|           NA|               NA|\n",
      "|2008|    1|         3|        4|    706|       700|    916|       915|           WN|      100| N690SW|              130|           135|    106|       1|       6|   IND| MCO|     828|     5|     19|        0|            null|       0|          NA|          NA|      NA|           NA|               NA|\n",
      "|2008|    1|         3|        4|   1644|      1510|   1845|      1725|           WN|     1333| N334SW|              121|           135|    107|      80|      94|   IND| MCO|     828|     6|      8|        0|            null|       0|           8|           0|       0|            0|               72|\n",
      "|2008|    1|         3|        4|   1426|      1430|   1426|      1425|           WN|      829| N476WN|               60|            55|     39|       1|      -4|   IND| MDW|     162|     9|     12|        0|            null|       0|          NA|          NA|      NA|           NA|               NA|\n",
      "|2008|    1|         3|        4|    715|       715|    720|       710|           WN|     1016| N765SW|               65|            55|     37|      10|       0|   IND| MDW|     162|     7|     21|        0|            null|       0|          NA|          NA|      NA|           NA|               NA|\n",
      "|2008|    1|         3|        4|   1702|      1700|   1651|      1655|           WN|     1827| N420WN|               49|            55|     35|      -4|       2|   IND| MDW|     162|     4|     10|        0|            null|       0|          NA|          NA|      NA|           NA|               NA|\n",
      "|2008|    1|         3|        4|   1029|      1020|   1021|      1010|           WN|     2272| N263WN|               52|            50|     37|      11|       9|   IND| MDW|     162|     6|      9|        0|            null|       0|          NA|          NA|      NA|           NA|               NA|\n",
      "|2008|    1|         3|        4|   1452|      1425|   1640|      1625|           WN|      675| N286WN|              228|           240|    213|      15|      27|   IND| PHX|    1489|     7|      8|        0|            null|       0|           3|           0|       0|            0|               12|\n",
      "|2008|    1|         3|        4|    754|       745|    940|       955|           WN|     1144| N778SW|              226|           250|    205|     -15|       9|   IND| PHX|    1489|     5|     16|        0|            null|       0|          NA|          NA|      NA|           NA|               NA|\n",
      "|2008|    1|         3|        4|   1323|      1255|   1526|      1510|           WN|        4| N674AA|              123|           135|    110|      16|      28|   IND| TPA|     838|     4|      9|        0|            null|       0|           0|           0|       0|            0|               16|\n",
      "|2008|    1|         3|        4|   1416|      1325|   1512|      1435|           WN|       54| N643SW|               56|            70|     49|      37|      51|   ISP| BWI|     220|     2|      5|        0|            null|       0|          12|           0|       0|            0|               25|\n",
      "+----+-----+----------+---------+-------+----------+-------+----------+-------------+---------+-------+-----------------+--------------+-------+--------+--------+------+----+--------+------+-------+---------+----------------+--------+------------+------------+--------+-------------+-----------------+\n",
      "only showing top 20 rows\n",
      "\n"
     ]
    }
   ],
   "source": [
    "data_test.show()"
   ]
  },
  {
   "cell_type": "code",
   "execution_count": 14,
   "metadata": {},
   "outputs": [
    {
     "name": "stdout",
     "output_type": "stream",
     "text": [
      "root\n",
      " |-- Year: string (nullable = true)\n",
      " |-- Month: string (nullable = true)\n",
      " |-- DayofMonth: string (nullable = true)\n",
      " |-- DayOfWeek: string (nullable = true)\n",
      " |-- DepTime: string (nullable = true)\n",
      " |-- CRSDepTime: string (nullable = true)\n",
      " |-- ArrTime: string (nullable = true)\n",
      " |-- CRSArrTime: string (nullable = true)\n",
      " |-- UniqueCarrier: string (nullable = true)\n",
      " |-- FlightNum: string (nullable = true)\n",
      " |-- TailNum: string (nullable = true)\n",
      " |-- ActualElapsedTime: string (nullable = true)\n",
      " |-- CRSElapsedTime: string (nullable = true)\n",
      " |-- AirTime: string (nullable = true)\n",
      " |-- ArrDelay: string (nullable = true)\n",
      " |-- DepDelay: string (nullable = true)\n",
      " |-- Origin: string (nullable = true)\n",
      " |-- Dest: string (nullable = true)\n",
      " |-- Distance: string (nullable = true)\n",
      " |-- TaxiIn: string (nullable = true)\n",
      " |-- TaxiOut: string (nullable = true)\n",
      " |-- Cancelled: string (nullable = true)\n",
      " |-- CancellationCode: string (nullable = true)\n",
      " |-- Diverted: string (nullable = true)\n",
      " |-- CarrierDelay: string (nullable = true)\n",
      " |-- WeatherDelay: string (nullable = true)\n",
      " |-- NASDelay: string (nullable = true)\n",
      " |-- SecurityDelay: string (nullable = true)\n",
      " |-- LateAircraftDelay: string (nullable = true)\n",
      "\n"
     ]
    }
   ],
   "source": [
    "data_test.printSchema()"
   ]
  },
  {
   "cell_type": "code",
   "execution_count": 15,
   "metadata": {},
   "outputs": [
    {
     "data": {
      "text/plain": [
       "[('Year', 'string'),\n",
       " ('Month', 'string'),\n",
       " ('DayofMonth', 'string'),\n",
       " ('DayOfWeek', 'string'),\n",
       " ('DepTime', 'string'),\n",
       " ('CRSDepTime', 'string'),\n",
       " ('ArrTime', 'string'),\n",
       " ('CRSArrTime', 'string'),\n",
       " ('UniqueCarrier', 'string'),\n",
       " ('FlightNum', 'string'),\n",
       " ('TailNum', 'string'),\n",
       " ('ActualElapsedTime', 'string'),\n",
       " ('CRSElapsedTime', 'string'),\n",
       " ('AirTime', 'string'),\n",
       " ('ArrDelay', 'string'),\n",
       " ('DepDelay', 'string'),\n",
       " ('Origin', 'string'),\n",
       " ('Dest', 'string'),\n",
       " ('Distance', 'string'),\n",
       " ('TaxiIn', 'string'),\n",
       " ('TaxiOut', 'string'),\n",
       " ('Cancelled', 'string'),\n",
       " ('CancellationCode', 'string'),\n",
       " ('Diverted', 'string'),\n",
       " ('CarrierDelay', 'string'),\n",
       " ('WeatherDelay', 'string'),\n",
       " ('NASDelay', 'string'),\n",
       " ('SecurityDelay', 'string'),\n",
       " ('LateAircraftDelay', 'string')]"
      ]
     },
     "execution_count": 15,
     "metadata": {},
     "output_type": "execute_result"
    }
   ],
   "source": [
    "data_test.dtypes"
   ]
  },
  {
   "cell_type": "code",
   "execution_count": 16,
   "metadata": {},
   "outputs": [],
   "source": [
    "header_text = data_test.first()"
   ]
  },
  {
   "cell_type": "code",
   "execution_count": 17,
   "metadata": {},
   "outputs": [],
   "source": [
    "data_test.registerTempTable(\"airliness\")"
   ]
  },
  {
   "cell_type": "markdown",
   "metadata": {},
   "source": [
    "##  Data Cleaning"
   ]
  },
  {
   "cell_type": "markdown",
   "metadata": {},
   "source": [
    "### Missing Value"
   ]
  },
  {
   "cell_type": "code",
   "execution_count": 18,
   "metadata": {},
   "outputs": [
    {
     "data": {
      "text/plain": [
       "7009728"
      ]
     },
     "execution_count": 18,
     "metadata": {},
     "output_type": "execute_result"
    }
   ],
   "source": [
    "airline_rdd.count()"
   ]
  },
  {
   "cell_type": "code",
   "execution_count": 19,
   "metadata": {},
   "outputs": [],
   "source": [
    "a = airline_rdd.drop('CancellationCode')"
   ]
  },
  {
   "cell_type": "code",
   "execution_count": 20,
   "metadata": {},
   "outputs": [],
   "source": [
    "b = a.replace('NA', '')"
   ]
  },
  {
   "cell_type": "code",
   "execution_count": 21,
   "metadata": {},
   "outputs": [
    {
     "name": "stdout",
     "output_type": "stream",
     "text": [
      "+--------+\n",
      "|ArrDelay|\n",
      "+--------+\n",
      "|        |\n",
      "|        |\n",
      "|        |\n",
      "|        |\n",
      "|        |\n",
      "|        |\n",
      "|        |\n",
      "|        |\n",
      "|        |\n",
      "|        |\n",
      "|        |\n",
      "|        |\n",
      "|        |\n",
      "|        |\n",
      "|        |\n",
      "|        |\n",
      "|        |\n",
      "|        |\n",
      "|        |\n",
      "|        |\n",
      "+--------+\n",
      "only showing top 20 rows\n",
      "\n"
     ]
    }
   ],
   "source": [
    "b.select('ArrDelay').where(\"ArrDelay like ''\").show()"
   ]
  },
  {
   "cell_type": "code",
   "execution_count": 22,
   "metadata": {},
   "outputs": [],
   "source": [
    "air_arrdelay = b.filter(b[\"ArrDelay\"] != \"\")"
   ]
  },
  {
   "cell_type": "code",
   "execution_count": 23,
   "metadata": {},
   "outputs": [
    {
     "data": {
      "text/plain": [
       "6855029"
      ]
     },
     "execution_count": 23,
     "metadata": {},
     "output_type": "execute_result"
    }
   ],
   "source": [
    "air_arrdelay.count()"
   ]
  },
  {
   "cell_type": "code",
   "execution_count": 24,
   "metadata": {},
   "outputs": [],
   "source": [
    "air_arrdelay = air_arrdelay.replace('', '0')"
   ]
  },
  {
   "cell_type": "code",
   "execution_count": 25,
   "metadata": {},
   "outputs": [
    {
     "name": "stdout",
     "output_type": "stream",
     "text": [
      "+----+-----+----------+---------+-------+----------+-------+----------+-------------+---------+-------+-----------------+--------------+-------+--------+--------+------+----+--------+------+-------+---------+--------+------------+------------+--------+-------------+-----------------+\n",
      "|Year|Month|DayofMonth|DayOfWeek|DepTime|CRSDepTime|ArrTime|CRSArrTime|UniqueCarrier|FlightNum|TailNum|ActualElapsedTime|CRSElapsedTime|AirTime|ArrDelay|DepDelay|Origin|Dest|Distance|TaxiIn|TaxiOut|Cancelled|Diverted|CarrierDelay|WeatherDelay|NASDelay|SecurityDelay|LateAircraftDelay|\n",
      "+----+-----+----------+---------+-------+----------+-------+----------+-------------+---------+-------+-----------------+--------------+-------+--------+--------+------+----+--------+------+-------+---------+--------+------------+------------+--------+-------------+-----------------+\n",
      "|2008|    1|         3|        4|   2003|      1955|   2211|      2225|           WN|      335| N712SW|              128|           150|    116|     -14|       8|   IAD| TPA|     810|     4|      8|        0|       0|           0|           0|       0|            0|                0|\n",
      "|2008|    1|         3|        4|    754|       735|   1002|      1000|           WN|     3231| N772SW|              128|           145|    113|       2|      19|   IAD| TPA|     810|     5|     10|        0|       0|           0|           0|       0|            0|                0|\n",
      "|2008|    1|         3|        4|    628|       620|    804|       750|           WN|      448| N428WN|               96|            90|     76|      14|       8|   IND| BWI|     515|     3|     17|        0|       0|           0|           0|       0|            0|                0|\n",
      "|2008|    1|         3|        4|    926|       930|   1054|      1100|           WN|     1746| N612SW|               88|            90|     78|      -6|      -4|   IND| BWI|     515|     3|      7|        0|       0|           0|           0|       0|            0|                0|\n",
      "|2008|    1|         3|        4|   1829|      1755|   1959|      1925|           WN|     3920| N464WN|               90|            90|     77|      34|      34|   IND| BWI|     515|     3|     10|        0|       0|           2|           0|       0|            0|               32|\n",
      "|2008|    1|         3|        4|   1940|      1915|   2121|      2110|           WN|      378| N726SW|              101|           115|     87|      11|      25|   IND| JAX|     688|     4|     10|        0|       0|           0|           0|       0|            0|                0|\n",
      "|2008|    1|         3|        4|   1937|      1830|   2037|      1940|           WN|      509| N763SW|              240|           250|    230|      57|      67|   IND| LAS|    1591|     3|      7|        0|       0|          10|           0|       0|            0|               47|\n",
      "|2008|    1|         3|        4|   1039|      1040|   1132|      1150|           WN|      535| N428WN|              233|           250|    219|     -18|      -1|   IND| LAS|    1591|     7|      7|        0|       0|           0|           0|       0|            0|                0|\n",
      "|2008|    1|         3|        4|    617|       615|    652|       650|           WN|       11| N689SW|               95|            95|     70|       2|       2|   IND| MCI|     451|     6|     19|        0|       0|           0|           0|       0|            0|                0|\n",
      "|2008|    1|         3|        4|   1620|      1620|   1639|      1655|           WN|      810| N648SW|               79|            95|     70|     -16|       0|   IND| MCI|     451|     3|      6|        0|       0|           0|           0|       0|            0|                0|\n",
      "|2008|    1|         3|        4|    706|       700|    916|       915|           WN|      100| N690SW|              130|           135|    106|       1|       6|   IND| MCO|     828|     5|     19|        0|       0|           0|           0|       0|            0|                0|\n",
      "|2008|    1|         3|        4|   1644|      1510|   1845|      1725|           WN|     1333| N334SW|              121|           135|    107|      80|      94|   IND| MCO|     828|     6|      8|        0|       0|           8|           0|       0|            0|               72|\n",
      "|2008|    1|         3|        4|   1426|      1430|   1426|      1425|           WN|      829| N476WN|               60|            55|     39|       1|      -4|   IND| MDW|     162|     9|     12|        0|       0|           0|           0|       0|            0|                0|\n",
      "|2008|    1|         3|        4|    715|       715|    720|       710|           WN|     1016| N765SW|               65|            55|     37|      10|       0|   IND| MDW|     162|     7|     21|        0|       0|           0|           0|       0|            0|                0|\n",
      "|2008|    1|         3|        4|   1702|      1700|   1651|      1655|           WN|     1827| N420WN|               49|            55|     35|      -4|       2|   IND| MDW|     162|     4|     10|        0|       0|           0|           0|       0|            0|                0|\n",
      "|2008|    1|         3|        4|   1029|      1020|   1021|      1010|           WN|     2272| N263WN|               52|            50|     37|      11|       9|   IND| MDW|     162|     6|      9|        0|       0|           0|           0|       0|            0|                0|\n",
      "|2008|    1|         3|        4|   1452|      1425|   1640|      1625|           WN|      675| N286WN|              228|           240|    213|      15|      27|   IND| PHX|    1489|     7|      8|        0|       0|           3|           0|       0|            0|               12|\n",
      "|2008|    1|         3|        4|    754|       745|    940|       955|           WN|     1144| N778SW|              226|           250|    205|     -15|       9|   IND| PHX|    1489|     5|     16|        0|       0|           0|           0|       0|            0|                0|\n",
      "|2008|    1|         3|        4|   1323|      1255|   1526|      1510|           WN|        4| N674AA|              123|           135|    110|      16|      28|   IND| TPA|     838|     4|      9|        0|       0|           0|           0|       0|            0|               16|\n",
      "|2008|    1|         3|        4|   1416|      1325|   1512|      1435|           WN|       54| N643SW|               56|            70|     49|      37|      51|   ISP| BWI|     220|     2|      5|        0|       0|          12|           0|       0|            0|               25|\n",
      "+----+-----+----------+---------+-------+----------+-------+----------+-------------+---------+-------+-----------------+--------------+-------+--------+--------+------+----+--------+------+-------+---------+--------+------------+------------+--------+-------------+-----------------+\n",
      "only showing top 20 rows\n",
      "\n"
     ]
    }
   ],
   "source": [
    "air_arrdelay.show(20)"
   ]
  },
  {
   "cell_type": "code",
   "execution_count": 26,
   "metadata": {},
   "outputs": [
    {
     "data": {
      "text/plain": [
       "[('Year', 'string'),\n",
       " ('Month', 'string'),\n",
       " ('DayofMonth', 'string'),\n",
       " ('DayOfWeek', 'string'),\n",
       " ('DepTime', 'string'),\n",
       " ('CRSDepTime', 'string'),\n",
       " ('ArrTime', 'string'),\n",
       " ('CRSArrTime', 'string'),\n",
       " ('UniqueCarrier', 'string'),\n",
       " ('FlightNum', 'string'),\n",
       " ('TailNum', 'string'),\n",
       " ('ActualElapsedTime', 'string'),\n",
       " ('CRSElapsedTime', 'string'),\n",
       " ('AirTime', 'string'),\n",
       " ('ArrDelay', 'string'),\n",
       " ('DepDelay', 'string'),\n",
       " ('Origin', 'string'),\n",
       " ('Dest', 'string'),\n",
       " ('Distance', 'string'),\n",
       " ('TaxiIn', 'string'),\n",
       " ('TaxiOut', 'string'),\n",
       " ('Cancelled', 'string'),\n",
       " ('Diverted', 'string'),\n",
       " ('CarrierDelay', 'string'),\n",
       " ('WeatherDelay', 'string'),\n",
       " ('NASDelay', 'string'),\n",
       " ('SecurityDelay', 'string'),\n",
       " ('LateAircraftDelay', 'string')]"
      ]
     },
     "execution_count": 26,
     "metadata": {},
     "output_type": "execute_result"
    }
   ],
   "source": [
    "air_arrdelay.dtypes"
   ]
  },
  {
   "cell_type": "code",
   "execution_count": 27,
   "metadata": {},
   "outputs": [],
   "source": [
    "data = air_arrdelay['DepTime','CRSDepTime','ArrTime', 'CRSArrTime', 'ActualElapsedTime', \\\n",
    "'CRSElapsedTime', 'AirTime', 'ArrDelay', 'DepDelay','Origin','Dest','Distance',\\\n",
    "                    'TaxiIn','TaxiOut','CarrierDelay','WeatherDelay','NASDelay','SecurityDelay','LateAircraftDelay']"
   ]
  },
  {
   "cell_type": "code",
   "execution_count": 28,
   "metadata": {},
   "outputs": [
    {
     "data": {
      "text/plain": [
       "7009728"
      ]
     },
     "execution_count": 28,
     "metadata": {},
     "output_type": "execute_result"
    }
   ],
   "source": [
    "data_test.count()"
   ]
  },
  {
   "cell_type": "code",
   "execution_count": 29,
   "metadata": {},
   "outputs": [],
   "source": [
    "a = data_test.drop('CancellationCode')"
   ]
  },
  {
   "cell_type": "code",
   "execution_count": 30,
   "metadata": {},
   "outputs": [],
   "source": [
    "b = a.replace('NA', '')"
   ]
  },
  {
   "cell_type": "code",
   "execution_count": 31,
   "metadata": {},
   "outputs": [
    {
     "name": "stdout",
     "output_type": "stream",
     "text": [
      "+--------+\n",
      "|ArrDelay|\n",
      "+--------+\n",
      "|        |\n",
      "|        |\n",
      "|        |\n",
      "|        |\n",
      "|        |\n",
      "|        |\n",
      "|        |\n",
      "|        |\n",
      "|        |\n",
      "|        |\n",
      "|        |\n",
      "|        |\n",
      "|        |\n",
      "|        |\n",
      "|        |\n",
      "|        |\n",
      "|        |\n",
      "|        |\n",
      "|        |\n",
      "|        |\n",
      "+--------+\n",
      "only showing top 20 rows\n",
      "\n"
     ]
    }
   ],
   "source": [
    "b.select('ArrDelay').where(\"ArrDelay like ''\").show()"
   ]
  },
  {
   "cell_type": "code",
   "execution_count": 32,
   "metadata": {},
   "outputs": [],
   "source": [
    "data_test = b.filter(b[\"ArrDelay\"] != \"\")"
   ]
  },
  {
   "cell_type": "code",
   "execution_count": 33,
   "metadata": {},
   "outputs": [
    {
     "data": {
      "text/plain": [
       "6855029"
      ]
     },
     "execution_count": 33,
     "metadata": {},
     "output_type": "execute_result"
    }
   ],
   "source": [
    "data_test.count()"
   ]
  },
  {
   "cell_type": "code",
   "execution_count": 34,
   "metadata": {},
   "outputs": [],
   "source": [
    "data_test = data_test.replace('', '0')"
   ]
  },
  {
   "cell_type": "code",
   "execution_count": 35,
   "metadata": {},
   "outputs": [
    {
     "name": "stdout",
     "output_type": "stream",
     "text": [
      "+----+-----+----------+---------+-------+----------+-------+----------+-------------+---------+-------+-----------------+--------------+-------+--------+--------+------+----+--------+------+-------+---------+--------+------------+------------+--------+-------------+-----------------+\n",
      "|Year|Month|DayofMonth|DayOfWeek|DepTime|CRSDepTime|ArrTime|CRSArrTime|UniqueCarrier|FlightNum|TailNum|ActualElapsedTime|CRSElapsedTime|AirTime|ArrDelay|DepDelay|Origin|Dest|Distance|TaxiIn|TaxiOut|Cancelled|Diverted|CarrierDelay|WeatherDelay|NASDelay|SecurityDelay|LateAircraftDelay|\n",
      "+----+-----+----------+---------+-------+----------+-------+----------+-------------+---------+-------+-----------------+--------------+-------+--------+--------+------+----+--------+------+-------+---------+--------+------------+------------+--------+-------------+-----------------+\n",
      "|2008|    1|         3|        4|   2003|      1955|   2211|      2225|           WN|      335| N712SW|              128|           150|    116|     -14|       8|   IAD| TPA|     810|     4|      8|        0|       0|           0|           0|       0|            0|                0|\n",
      "|2008|    1|         3|        4|    754|       735|   1002|      1000|           WN|     3231| N772SW|              128|           145|    113|       2|      19|   IAD| TPA|     810|     5|     10|        0|       0|           0|           0|       0|            0|                0|\n",
      "|2008|    1|         3|        4|    628|       620|    804|       750|           WN|      448| N428WN|               96|            90|     76|      14|       8|   IND| BWI|     515|     3|     17|        0|       0|           0|           0|       0|            0|                0|\n",
      "|2008|    1|         3|        4|    926|       930|   1054|      1100|           WN|     1746| N612SW|               88|            90|     78|      -6|      -4|   IND| BWI|     515|     3|      7|        0|       0|           0|           0|       0|            0|                0|\n",
      "|2008|    1|         3|        4|   1829|      1755|   1959|      1925|           WN|     3920| N464WN|               90|            90|     77|      34|      34|   IND| BWI|     515|     3|     10|        0|       0|           2|           0|       0|            0|               32|\n",
      "|2008|    1|         3|        4|   1940|      1915|   2121|      2110|           WN|      378| N726SW|              101|           115|     87|      11|      25|   IND| JAX|     688|     4|     10|        0|       0|           0|           0|       0|            0|                0|\n",
      "|2008|    1|         3|        4|   1937|      1830|   2037|      1940|           WN|      509| N763SW|              240|           250|    230|      57|      67|   IND| LAS|    1591|     3|      7|        0|       0|          10|           0|       0|            0|               47|\n",
      "|2008|    1|         3|        4|   1039|      1040|   1132|      1150|           WN|      535| N428WN|              233|           250|    219|     -18|      -1|   IND| LAS|    1591|     7|      7|        0|       0|           0|           0|       0|            0|                0|\n",
      "|2008|    1|         3|        4|    617|       615|    652|       650|           WN|       11| N689SW|               95|            95|     70|       2|       2|   IND| MCI|     451|     6|     19|        0|       0|           0|           0|       0|            0|                0|\n",
      "|2008|    1|         3|        4|   1620|      1620|   1639|      1655|           WN|      810| N648SW|               79|            95|     70|     -16|       0|   IND| MCI|     451|     3|      6|        0|       0|           0|           0|       0|            0|                0|\n",
      "|2008|    1|         3|        4|    706|       700|    916|       915|           WN|      100| N690SW|              130|           135|    106|       1|       6|   IND| MCO|     828|     5|     19|        0|       0|           0|           0|       0|            0|                0|\n",
      "|2008|    1|         3|        4|   1644|      1510|   1845|      1725|           WN|     1333| N334SW|              121|           135|    107|      80|      94|   IND| MCO|     828|     6|      8|        0|       0|           8|           0|       0|            0|               72|\n",
      "|2008|    1|         3|        4|   1426|      1430|   1426|      1425|           WN|      829| N476WN|               60|            55|     39|       1|      -4|   IND| MDW|     162|     9|     12|        0|       0|           0|           0|       0|            0|                0|\n",
      "|2008|    1|         3|        4|    715|       715|    720|       710|           WN|     1016| N765SW|               65|            55|     37|      10|       0|   IND| MDW|     162|     7|     21|        0|       0|           0|           0|       0|            0|                0|\n",
      "|2008|    1|         3|        4|   1702|      1700|   1651|      1655|           WN|     1827| N420WN|               49|            55|     35|      -4|       2|   IND| MDW|     162|     4|     10|        0|       0|           0|           0|       0|            0|                0|\n",
      "|2008|    1|         3|        4|   1029|      1020|   1021|      1010|           WN|     2272| N263WN|               52|            50|     37|      11|       9|   IND| MDW|     162|     6|      9|        0|       0|           0|           0|       0|            0|                0|\n",
      "|2008|    1|         3|        4|   1452|      1425|   1640|      1625|           WN|      675| N286WN|              228|           240|    213|      15|      27|   IND| PHX|    1489|     7|      8|        0|       0|           3|           0|       0|            0|               12|\n",
      "|2008|    1|         3|        4|    754|       745|    940|       955|           WN|     1144| N778SW|              226|           250|    205|     -15|       9|   IND| PHX|    1489|     5|     16|        0|       0|           0|           0|       0|            0|                0|\n",
      "|2008|    1|         3|        4|   1323|      1255|   1526|      1510|           WN|        4| N674AA|              123|           135|    110|      16|      28|   IND| TPA|     838|     4|      9|        0|       0|           0|           0|       0|            0|               16|\n",
      "|2008|    1|         3|        4|   1416|      1325|   1512|      1435|           WN|       54| N643SW|               56|            70|     49|      37|      51|   ISP| BWI|     220|     2|      5|        0|       0|          12|           0|       0|            0|               25|\n",
      "+----+-----+----------+---------+-------+----------+-------+----------+-------------+---------+-------+-----------------+--------------+-------+--------+--------+------+----+--------+------+-------+---------+--------+------------+------------+--------+-------------+-----------------+\n",
      "only showing top 20 rows\n",
      "\n"
     ]
    }
   ],
   "source": [
    "data_test.show()"
   ]
  },
  {
   "cell_type": "code",
   "execution_count": 36,
   "metadata": {},
   "outputs": [
    {
     "data": {
      "text/plain": [
       "[('Year', 'string'),\n",
       " ('Month', 'string'),\n",
       " ('DayofMonth', 'string'),\n",
       " ('DayOfWeek', 'string'),\n",
       " ('DepTime', 'string'),\n",
       " ('CRSDepTime', 'string'),\n",
       " ('ArrTime', 'string'),\n",
       " ('CRSArrTime', 'string'),\n",
       " ('UniqueCarrier', 'string'),\n",
       " ('FlightNum', 'string'),\n",
       " ('TailNum', 'string'),\n",
       " ('ActualElapsedTime', 'string'),\n",
       " ('CRSElapsedTime', 'string'),\n",
       " ('AirTime', 'string'),\n",
       " ('ArrDelay', 'string'),\n",
       " ('DepDelay', 'string'),\n",
       " ('Origin', 'string'),\n",
       " ('Dest', 'string'),\n",
       " ('Distance', 'string'),\n",
       " ('TaxiIn', 'string'),\n",
       " ('TaxiOut', 'string'),\n",
       " ('Cancelled', 'string'),\n",
       " ('Diverted', 'string'),\n",
       " ('CarrierDelay', 'string'),\n",
       " ('WeatherDelay', 'string'),\n",
       " ('NASDelay', 'string'),\n",
       " ('SecurityDelay', 'string'),\n",
       " ('LateAircraftDelay', 'string')]"
      ]
     },
     "execution_count": 36,
     "metadata": {},
     "output_type": "execute_result"
    }
   ],
   "source": [
    "data_test.dtypes"
   ]
  },
  {
   "cell_type": "code",
   "execution_count": 37,
   "metadata": {},
   "outputs": [],
   "source": [
    "dataa = air_arrdelay['DepTime','CRSDepTime','ArrTime', 'CRSArrTime', 'ActualElapsedTime', \\\n",
    "'CRSElapsedTime', 'AirTime', 'ArrDelay', 'DepDelay','Origin','Dest','Distance',\\\n",
    "                    'TaxiIn','TaxiOut','CarrierDelay','WeatherDelay','NASDelay','SecurityDelay','LateAircraftDelay']"
   ]
  },
  {
   "cell_type": "code",
   "execution_count": 38,
   "metadata": {},
   "outputs": [],
   "source": [
    "#df_main.filter(df_main[\"AirTime\"] == \"\").count()\n",
    "import numpy"
   ]
  },
  {
   "cell_type": "markdown",
   "metadata": {},
   "source": [
    "### Cast Data Types"
   ]
  },
  {
   "cell_type": "code",
   "execution_count": 39,
   "metadata": {},
   "outputs": [],
   "source": [
    "from pyspark.sql.types import IntegerType\n",
    "from pyspark.sql.types import StringType\n",
    "from pyspark.ml.feature import StringIndexer\n",
    "from pyspark.sql.types import BooleanType"
   ]
  },
  {
   "cell_type": "code",
   "execution_count": 40,
   "metadata": {},
   "outputs": [],
   "source": [
    "dataa = dataa.withColumn(\"DepTime\", dataa[\"DepTime\"].cast(IntegerType()))\n",
    "dataa = dataa.withColumn(\"CRSDepTime\", dataa[\"CRSDepTime\"].cast(IntegerType()))\n",
    "dataa = dataa.withColumn(\"ArrTime\", dataa[\"ArrTime\"].cast(IntegerType()))\n",
    "dataa = dataa.withColumn(\"CRSArrTime\", dataa[\"CRSArrTime\"].cast(IntegerType()))\n",
    "dataa = dataa.withColumn(\"ActualElapsedTime\", dataa[\"ActualElapsedTime\"].cast(IntegerType()))\n",
    "dataa = dataa.withColumn(\"CRSElapsedTime\", dataa[\"CRSElapsedTime\"].cast(IntegerType()))\n",
    "dataa = dataa.withColumn(\"AirTime\", dataa[\"AirTime\"].cast(IntegerType()))\n",
    "dataa = dataa.withColumn(\"ArrDelay\", dataa[\"ArrDelay\"].cast(IntegerType()))\n",
    "dataa = dataa.withColumn(\"DepDelay\", dataa[\"DepDelay\"].cast(IntegerType()))\n",
    "dataa = dataa.withColumn(\"Distance\", dataa[\"Distance\"].cast(IntegerType()))\n",
    "dataa = dataa.withColumn(\"TaxiIn\", dataa[\"TaxiIn\"].cast(IntegerType()))\n",
    "dataa = dataa.withColumn(\"TaxiOut\", dataa[\"TaxiOut\"].cast(IntegerType()))\n",
    "dataa = dataa.withColumn(\"CarrierDelay\", dataa[\"CarrierDelay\"].cast(IntegerType()))\n",
    "dataa = dataa.withColumn(\"WeatherDelay\", dataa[\"WeatherDelay\"].cast(IntegerType()))\n",
    "dataa = dataa.withColumn(\"NASDelay\", dataa[\"NASDelay\"].cast(IntegerType()))\n",
    "dataa = dataa.withColumn(\"SecurityDelay\", dataa[\"SecurityDelay\"].cast(IntegerType()))\n",
    "dataa = dataa.withColumn(\"LateAircraftDelay\", dataa[\"LateAircraftDelay\"].cast(IntegerType()))\n",
    "dataa = dataa.withColumn('LabelArrDelay', dataa.ArrDelay)"
   ]
  },
  {
   "cell_type": "code",
   "execution_count": 41,
   "metadata": {},
   "outputs": [],
   "source": [
    "from pyspark.ml.feature import OneHotEncoder, StringIndexer\n",
    "OriginIndexer = StringIndexer(inputCol=\"Origin\", outputCol=\"OriginIndex\")\n",
    "#model = stringIndexer.fit(df_main)\n",
    "#indexed = model.transform(df_main)\n",
    "\n",
    "Originencoder = OneHotEncoder(inputCol=\"OriginIndex\", outputCol=\"OriginVec\")\n",
    "#encoded = encoder.transform(indexed)\n",
    "#encoded.show()"
   ]
  },
  {
   "cell_type": "code",
   "execution_count": 42,
   "metadata": {},
   "outputs": [],
   "source": [
    "DestIndexer = StringIndexer(inputCol=\"Dest\", outputCol=\"DestIndex\")\n",
    "#model = stringIndexer.fit(encoded)\n",
    "#indexed2 = model.transform(encoded)\n",
    "\n",
    "Destencoder = OneHotEncoder(inputCol=\"DestIndex\", outputCol=\"DestVec\")\n",
    "#encoded3 = encoder2.transform(indexed2)\n",
    "#encoded3.show()"
   ]
  },
  {
   "cell_type": "code",
   "execution_count": 43,
   "metadata": {},
   "outputs": [],
   "source": [
    "UniqueCarrierIndexer = StringIndexer(inputCol=\"UniqueCarrier\", outputCol=\"UniqueCarrierIndex\")\n",
    "#model = stringIndexer.fit(encoded2)\n",
    "#index"
   ]
  },
  {
   "cell_type": "code",
   "execution_count": 44,
   "metadata": {},
   "outputs": [],
   "source": [
    "data = data.withColumn(\"DepTime\", data[\"DepTime\"].cast(IntegerType()))"
   ]
  },
  {
   "cell_type": "code",
   "execution_count": 45,
   "metadata": {},
   "outputs": [],
   "source": [
    "data = data.withColumn(\"CRSDepTime\", data[\"CRSDepTime\"].cast(IntegerType()))"
   ]
  },
  {
   "cell_type": "code",
   "execution_count": 46,
   "metadata": {},
   "outputs": [],
   "source": [
    "data = data.withColumn(\"ArrTime\", data[\"ArrTime\"].cast(IntegerType()))"
   ]
  },
  {
   "cell_type": "code",
   "execution_count": 47,
   "metadata": {},
   "outputs": [],
   "source": [
    "data = data.withColumn(\"CRSArrTime\", data[\"CRSArrTime\"].cast(IntegerType()))"
   ]
  },
  {
   "cell_type": "code",
   "execution_count": 48,
   "metadata": {},
   "outputs": [],
   "source": [
    "data = data.withColumn(\"ActualElapsedTime\", data[\"ActualElapsedTime\"].cast(IntegerType()))"
   ]
  },
  {
   "cell_type": "code",
   "execution_count": 49,
   "metadata": {},
   "outputs": [],
   "source": [
    "data = data.withColumn(\"CRSElapsedTime\", data[\"CRSElapsedTime\"].cast(IntegerType()))"
   ]
  },
  {
   "cell_type": "code",
   "execution_count": 50,
   "metadata": {},
   "outputs": [],
   "source": [
    "data = data.withColumn(\"AirTime\", data[\"AirTime\"].cast(IntegerType()))"
   ]
  },
  {
   "cell_type": "code",
   "execution_count": 51,
   "metadata": {},
   "outputs": [],
   "source": [
    "data = data.withColumn(\"ArrDelay\", data[\"ArrDelay\"].cast(IntegerType()))"
   ]
  },
  {
   "cell_type": "code",
   "execution_count": 52,
   "metadata": {},
   "outputs": [],
   "source": [
    "data = data.withColumn(\"DepDelay\", data[\"DepDelay\"].cast(IntegerType()))"
   ]
  },
  {
   "cell_type": "code",
   "execution_count": 53,
   "metadata": {},
   "outputs": [],
   "source": [
    "data = data.withColumn(\"Distance\", data[\"Distance\"].cast(IntegerType()))"
   ]
  },
  {
   "cell_type": "code",
   "execution_count": 54,
   "metadata": {},
   "outputs": [],
   "source": [
    "data = data.withColumn(\"TaxiIn\", data[\"TaxiIn\"].cast(IntegerType()))"
   ]
  },
  {
   "cell_type": "code",
   "execution_count": 55,
   "metadata": {},
   "outputs": [],
   "source": [
    "data = data.withColumn(\"TaxiOut\", data[\"TaxiOut\"].cast(IntegerType()))"
   ]
  },
  {
   "cell_type": "code",
   "execution_count": 56,
   "metadata": {},
   "outputs": [],
   "source": [
    "data = data.withColumn(\"CarrierDelay\", data[\"CarrierDelay\"].cast(IntegerType()))"
   ]
  },
  {
   "cell_type": "code",
   "execution_count": 57,
   "metadata": {},
   "outputs": [],
   "source": [
    "data = data.withColumn(\"WeatherDelay\", data[\"WeatherDelay\"].cast(IntegerType()))"
   ]
  },
  {
   "cell_type": "code",
   "execution_count": 58,
   "metadata": {},
   "outputs": [],
   "source": [
    "data = data.withColumn(\"NASDelay\", data[\"NASDelay\"].cast(IntegerType()))"
   ]
  },
  {
   "cell_type": "code",
   "execution_count": 59,
   "metadata": {},
   "outputs": [],
   "source": [
    "data = data.withColumn(\"SecurityDelay\", data[\"SecurityDelay\"].cast(IntegerType()))"
   ]
  },
  {
   "cell_type": "code",
   "execution_count": 60,
   "metadata": {},
   "outputs": [],
   "source": [
    "data = data.withColumn(\"LateAircraftDelay\", data[\"LateAircraftDelay\"].cast(IntegerType()))"
   ]
  },
  {
   "cell_type": "code",
   "execution_count": 61,
   "metadata": {},
   "outputs": [],
   "source": [
    "data = data.withColumn('LabelArrDelay', data.ArrDelay)"
   ]
  },
  {
   "cell_type": "code",
   "execution_count": 62,
   "metadata": {},
   "outputs": [],
   "source": [
    "dataa = dataa.withColumn(\"DepTime\", dataa[\"DepTime\"].cast(IntegerType()))\n",
    "dataa = dataa.withColumn(\"CRSDepTime\", dataa[\"CRSDepTime\"].cast(IntegerType()))\n",
    "dataa = dataa.withColumn(\"ArrTime\", dataa[\"ArrTime\"].cast(IntegerType()))\n",
    "dataa = dataa.withColumn(\"CRSArrTime\", dataa[\"CRSArrTime\"].cast(IntegerType()))\n",
    "dataa = dataa.withColumn(\"ActualElapsedTime\", dataa[\"ActualElapsedTime\"].cast(IntegerType()))\n",
    "dataa = dataa.withColumn(\"CRSElapsedTime\", dataa[\"CRSElapsedTime\"].cast(IntegerType()))\n",
    "dataa = dataa.withColumn(\"AirTime\", dataa[\"AirTime\"].cast(IntegerType()))\n",
    "dataa = dataa.withColumn(\"ArrDelay\", dataa[\"ArrDelay\"].cast(IntegerType()))\n",
    "dataa = dataa.withColumn(\"DepDelay\", dataa[\"DepDelay\"].cast(IntegerType()))\n",
    "dataa = dataa.withColumn(\"Distance\", dataa[\"Distance\"].cast(IntegerType()))\n",
    "dataa = dataa.withColumn(\"TaxiIn\", dataa[\"TaxiIn\"].cast(IntegerType()))\n",
    "dataa = dataa.withColumn(\"TaxiOut\", dataa[\"TaxiOut\"].cast(IntegerType()))\n",
    "dataa = dataa.withColumn(\"CarrierDelay\", dataa[\"CarrierDelay\"].cast(IntegerType()))\n",
    "dataa = dataa.withColumn(\"WeatherDelay\", dataa[\"WeatherDelay\"].cast(IntegerType()))\n",
    "dataa = dataa.withColumn(\"NASDelay\", dataa[\"NASDelay\"].cast(IntegerType()))\n",
    "dataa = dataa.withColumn(\"SecurityDelay\", dataa[\"SecurityDelay\"].cast(IntegerType()))\n",
    "dataa = dataa.withColumn(\"LateAircraftDelay\", dataa[\"LateAircraftDelay\"].cast(IntegerType()))\n",
    "dataa = dataa.withColumn('LabelArrDelay', dataa.ArrDelay)"
   ]
  },
  {
   "cell_type": "markdown",
   "metadata": {},
   "source": [
    "### Change label numeric to classifier"
   ]
  },
  {
   "cell_type": "code",
   "execution_count": 63,
   "metadata": {},
   "outputs": [],
   "source": [
    "#0 is in time,1 is late\n",
    "data = data.withColumn('LabelArrDelay',(data['ArrDelay']>0).cast(IntegerType()))\n",
    "dataa = dataa.withColumn('LabelArrDelay',(dataa['ArrDelay']>0).cast(IntegerType()))"
   ]
  },
  {
   "cell_type": "code",
   "execution_count": 64,
   "metadata": {},
   "outputs": [
    {
     "name": "stdout",
     "output_type": "stream",
     "text": [
      "+--------+-------------+\n",
      "|ArrDelay|LabelArrDelay|\n",
      "+--------+-------------+\n",
      "|     -14|            0|\n",
      "|       2|            1|\n",
      "|      14|            1|\n",
      "|      -6|            0|\n",
      "|      34|            1|\n",
      "|      11|            1|\n",
      "|      57|            1|\n",
      "|     -18|            0|\n",
      "|       2|            1|\n",
      "|     -16|            0|\n",
      "|       1|            1|\n",
      "|      80|            1|\n",
      "|       1|            1|\n",
      "|      10|            1|\n",
      "|      -4|            0|\n",
      "|      11|            1|\n",
      "|      15|            1|\n",
      "|     -15|            0|\n",
      "|      16|            1|\n",
      "|      37|            1|\n",
      "+--------+-------------+\n",
      "only showing top 20 rows\n",
      "\n"
     ]
    }
   ],
   "source": [
    "data.select('ArrDelay','LabelArrDelay').show()"
   ]
  },
  {
   "cell_type": "code",
   "execution_count": 65,
   "metadata": {},
   "outputs": [],
   "source": [
    "#data = data.withColumn(\"LabelArrDelay\", data[\"LabelArrDelay\"].cast(BooleanType()))"
   ]
  },
  {
   "cell_type": "code",
   "execution_count": 66,
   "metadata": {},
   "outputs": [],
   "source": [
    "#data.select('ArrDelay','LabelArrDelay')"
   ]
  },
  {
   "cell_type": "code",
   "execution_count": 67,
   "metadata": {},
   "outputs": [
    {
     "name": "stdout",
     "output_type": "stream",
     "text": [
      "+-------+----------+-------+----------+-----------------+--------------+-------+--------+--------+------+----+--------+------+-------+------------+------------+--------+-------------+-----------------+-------------+\n",
      "|DepTime|CRSDepTime|ArrTime|CRSArrTime|ActualElapsedTime|CRSElapsedTime|AirTime|ArrDelay|DepDelay|Origin|Dest|Distance|TaxiIn|TaxiOut|CarrierDelay|WeatherDelay|NASDelay|SecurityDelay|LateAircraftDelay|LabelArrDelay|\n",
      "+-------+----------+-------+----------+-----------------+--------------+-------+--------+--------+------+----+--------+------+-------+------------+------------+--------+-------------+-----------------+-------------+\n",
      "|   2003|      1955|   2211|      2225|              128|           150|    116|     -14|       8|   IAD| TPA|     810|     4|      8|           0|           0|       0|            0|                0|            0|\n",
      "|    754|       735|   1002|      1000|              128|           145|    113|       2|      19|   IAD| TPA|     810|     5|     10|           0|           0|       0|            0|                0|            1|\n",
      "|    628|       620|    804|       750|               96|            90|     76|      14|       8|   IND| BWI|     515|     3|     17|           0|           0|       0|            0|                0|            1|\n",
      "+-------+----------+-------+----------+-----------------+--------------+-------+--------+--------+------+----+--------+------+-------+------------+------------+--------+-------------+-----------------+-------------+\n",
      "only showing top 3 rows\n",
      "\n"
     ]
    }
   ],
   "source": [
    "data.show(3)"
   ]
  },
  {
   "cell_type": "code",
   "execution_count": 68,
   "metadata": {},
   "outputs": [
    {
     "data": {
      "text/plain": [
       "[('DepTime', 'int'),\n",
       " ('CRSDepTime', 'int'),\n",
       " ('ArrTime', 'int'),\n",
       " ('CRSArrTime', 'int'),\n",
       " ('ActualElapsedTime', 'int'),\n",
       " ('CRSElapsedTime', 'int'),\n",
       " ('AirTime', 'int'),\n",
       " ('ArrDelay', 'int'),\n",
       " ('DepDelay', 'int'),\n",
       " ('Origin', 'string'),\n",
       " ('Dest', 'string'),\n",
       " ('Distance', 'int'),\n",
       " ('TaxiIn', 'int'),\n",
       " ('TaxiOut', 'int'),\n",
       " ('CarrierDelay', 'int'),\n",
       " ('WeatherDelay', 'int'),\n",
       " ('NASDelay', 'int'),\n",
       " ('SecurityDelay', 'int'),\n",
       " ('LateAircraftDelay', 'int'),\n",
       " ('LabelArrDelay', 'int')]"
      ]
     },
     "execution_count": 68,
     "metadata": {},
     "output_type": "execute_result"
    }
   ],
   "source": [
    "data.dtypes"
   ]
  },
  {
   "cell_type": "code",
   "execution_count": 69,
   "metadata": {},
   "outputs": [
    {
     "data": {
      "text/plain": [
       "Row(DepTime=2003, CRSDepTime=1955, ArrTime=2211, CRSArrTime=2225, ActualElapsedTime=128, CRSElapsedTime=150, AirTime=116, ArrDelay=-14, DepDelay=8, Origin='IAD', Dest='TPA', Distance=810, TaxiIn=4, TaxiOut=8, CarrierDelay=0, WeatherDelay=0, NASDelay=0, SecurityDelay=0, LateAircraftDelay=0, LabelArrDelay=0)"
      ]
     },
     "execution_count": 69,
     "metadata": {},
     "output_type": "execute_result"
    }
   ],
   "source": [
    "data.head()"
   ]
  },
  {
   "cell_type": "code",
   "execution_count": 70,
   "metadata": {},
   "outputs": [],
   "source": [
    "#dataa.write.csv('gs://ku-flight/Test/*', header = True )"
   ]
  },
  {
   "cell_type": "code",
   "execution_count": 71,
   "metadata": {},
   "outputs": [],
   "source": [
    "#data.write.csv('gs://ku-flight/Data/*', header = True )"
   ]
  },
  {
   "cell_type": "markdown",
   "metadata": {},
   "source": [
    "### Pearson Correlation feature and label"
   ]
  },
  {
   "cell_type": "code",
   "execution_count": 72,
   "metadata": {},
   "outputs": [
    {
     "name": "stdout",
     "output_type": "stream",
     "text": [
      "Requirement already satisfied: pandas in /opt/conda/lib/python3.7/site-packages (0.25.3)\n",
      "Requirement already satisfied: matplotlib in /opt/conda/lib/python3.7/site-packages (3.1.1)\n",
      "Requirement already satisfied: seaborn in /opt/conda/lib/python3.7/site-packages (0.9.0)\n",
      "Requirement already satisfied: python-dateutil>=2.6.1 in /opt/conda/lib/python3.7/site-packages (from pandas) (2.8.1)\n",
      "Requirement already satisfied: numpy>=1.13.3 in /opt/conda/lib/python3.7/site-packages (from pandas) (1.17.3)\n",
      "Requirement already satisfied: pytz>=2017.2 in /opt/conda/lib/python3.7/site-packages (from pandas) (2019.3)\n",
      "Requirement already satisfied: cycler>=0.10 in /opt/conda/lib/python3.7/site-packages (from matplotlib) (0.10.0)\n",
      "Requirement already satisfied: kiwisolver>=1.0.1 in /opt/conda/lib/python3.7/site-packages (from matplotlib) (1.1.0)\n",
      "Requirement already satisfied: pyparsing!=2.0.4,!=2.1.2,!=2.1.6,>=2.0.1 in /opt/conda/lib/python3.7/site-packages (from matplotlib) (2.4.4)\n",
      "Requirement already satisfied: scipy>=0.14.0 in /opt/conda/lib/python3.7/site-packages (from seaborn) (1.3.3)\n",
      "Requirement already satisfied: six>=1.5 in /opt/conda/lib/python3.7/site-packages (from python-dateutil>=2.6.1->pandas) (1.12.0)\n",
      "Requirement already satisfied: setuptools in /opt/conda/lib/python3.7/site-packages (from kiwisolver>=1.0.1->matplotlib) (41.0.1)\n"
     ]
    }
   ],
   "source": [
    "! pip install pandas matplotlib seaborn"
   ]
  },
  {
   "cell_type": "code",
   "execution_count": 73,
   "metadata": {},
   "outputs": [],
   "source": [
    "import seaborn as sns\n",
    "import pandas as pd\n",
    "import numpy as np\n",
    "import matplotlib.pyplot as plt"
   ]
  },
  {
   "cell_type": "code",
   "execution_count": 74,
   "metadata": {},
   "outputs": [],
   "source": [
    "s1 = dataa.sample(False, 0.001, seed=42)\n",
    "s1 = s1.toPandas()"
   ]
  },
  {
   "cell_type": "code",
   "execution_count": 75,
   "metadata": {},
   "outputs": [
    {
     "data": {
      "image/png": "[encoded data removed]",
      "text/plain": [
       "<Figure size 1080x1080 with 2 Axes>"
      ]
     },
     "metadata": {
      "needs_background": "light"
     },
     "output_type": "display_data"
    }
   ],
   "source": [
    "#correlation heatmap of dataset\n",
    "def correlation_heatmap(df):\n",
    "    _ , ax = plt.subplots(figsize =(15, 15))\n",
    "    colormap = sns.diverging_palette(220, 10, as_cmap = True)\n",
    "    \n",
    "    _ = sns.heatmap(\n",
    "        df.corr(), \n",
    "        cmap = colormap,\n",
    "        square=True, \n",
    "        cbar_kws={'shrink':.9 }, \n",
    "        ax=ax,\n",
    "        annot=True, \n",
    "        linewidths=0.1,vmax=1.0, linecolor='white',\n",
    "        annot_kws={'fontsize':10 }\n",
    "    )\n",
    "    \n",
    "    plt.title('Pearson Correlation of Features', y=0.5, size=10)\n",
    "\n",
    "correlation_heatmap(s1)"
   ]
  },
  {
   "cell_type": "markdown",
   "metadata": {},
   "source": [
    "## Feature Selection"
   ]
  },
  {
   "cell_type": "code",
   "execution_count": 76,
   "metadata": {},
   "outputs": [],
   "source": [
    "from pyspark.ml.feature import VectorAssembler\n",
    "fetureAssembler = VectorAssembler(inputCols = ['ActualElapsedTime','DepDelay','CRSElapsedTime',\\\n",
    "                                               'AirTime','Distance','TaxiIn','TaxiOut'],\\\n",
    "                                  outputCol = 'features') "
   ]
  },
  {
   "cell_type": "code",
   "execution_count": 77,
   "metadata": {},
   "outputs": [],
   "source": [
    "#fetureAssembler = VectorAssembler (inputCols = ['DepTime','CRSElapsedTime','TaxiIn', 'TaxiOut', 'WeatherDelay', \\\n",
    "#                                                'NASDelay', 'SecurityDelay', 'LateAircraftDelay'],\\ \n",
    "#                                  outputCol = 'features') "
   ]
  },
  {
   "cell_type": "markdown",
   "metadata": {},
   "source": [
    "### Modeling RandomForestClassifier"
   ]
  },
  {
   "cell_type": "code",
   "execution_count": 78,
   "metadata": {},
   "outputs": [],
   "source": [
    "from pyspark.ml.feature import VectorAssembler\n",
    "from pyspark.ml import Pipeline\n",
    "from pyspark.mllib.tree import RandomForest,RandomForestModel \n",
    "from pyspark.ml.classification import RandomForestClassifier\n",
    "from pyspark.ml.evaluation import MulticlassClassificationEvaluator\n",
    "from pyspark.ml.classification import DecisionTreeClassifier\n"
   ]
  },
  {
   "cell_type": "code",
   "execution_count": 79,
   "metadata": {},
   "outputs": [],
   "source": [
    "rf = RandomForestClassifier(numTrees=5, maxDepth=5, labelCol=\"LabelArrDelay\", featuresCol=\"features\")\n",
    " \n",
    "#pipeline = Pipeline().setStages([vectorAssembler, rf])\n",
    "delay_df = fetureAssembler.transform(data)\n",
    "delay_df = delay_df.select(['features', 'LabelArrDelay'])"
   ]
  },
  {
   "cell_type": "code",
   "execution_count": 80,
   "metadata": {},
   "outputs": [],
   "source": [
    "#train = delay_df.randomSplit([0.7])\n",
    "#test = delay_df.randomSplit([0.3])"
   ]
  },
  {
   "cell_type": "code",
   "execution_count": 81,
   "metadata": {},
   "outputs": [],
   "source": [
    "train , test = delay_df.randomSplit([0.7,0.3])"
   ]
  },
  {
   "cell_type": "code",
   "execution_count": 82,
   "metadata": {},
   "outputs": [],
   "source": [
    "model = rf.fit(train)"
   ]
  },
  {
   "cell_type": "code",
   "execution_count": 83,
   "metadata": {},
   "outputs": [],
   "source": [
    "result = model.transform(test)"
   ]
  },
  {
   "cell_type": "code",
   "execution_count": 84,
   "metadata": {},
   "outputs": [
    {
     "name": "stdout",
     "output_type": "stream",
     "text": [
      "+--------------------+-------------+--------------------+--------------------+----------+\n",
      "|            features|LabelArrDelay|       rawPrediction|         probability|prediction|\n",
      "+--------------------+-------------+--------------------+--------------------+----------+\n",
      "|[16.0,-36.0,31.0,...|            0|[4.29284426961493...|[0.85856885392298...|       0.0|\n",
      "|[17.0,-13.0,27.0,...|            0|[4.29284426961493...|[0.85856885392298...|       0.0|\n",
      "|[18.0,-5.0,27.0,9...|            0|[4.29284426961493...|[0.85856885392298...|       0.0|\n",
      "|[18.0,1.0,28.0,12...|            0|[3.84751780588419...|[0.76950356117683...|       0.0|\n",
      "|[18.0,59.0,27.0,9...|            1|[0.81712256901729...|[0.16342451380345...|       1.0|\n",
      "|[19.0,-27.0,31.0,...|            0|[4.29284426961493...|[0.85856885392298...|       0.0|\n",
      "|[19.0,-18.0,28.0,...|            0|[4.29284426961493...|[0.85856885392298...|       0.0|\n",
      "|[19.0,-1.0,27.0,9...|            0|[4.15458504803030...|[0.83091700960606...|       0.0|\n",
      "|[19.0,27.0,27.0,1...|            1|[0.81712256901729...|[0.16342451380345...|       1.0|\n",
      "|[20.0,-15.0,27.0,...|            0|[4.29284426961493...|[0.85856885392298...|       0.0|\n",
      "|[20.0,-5.0,30.0,1...|            0|[4.29284426961493...|[0.85856885392298...|       0.0|\n",
      "|[20.0,6.0,28.0,14...|            0|[2.9524688195517,...|[0.59049376391034...|       0.0|\n",
      "|[20.0,7.0,27.0,9....|            0|[1.50694636235430...|[0.30138927247086...|       1.0|\n",
      "|[20.0,60.0,39.0,1...|            1|[0.81712256901729...|[0.16342451380345...|       1.0|\n",
      "|[21.0,-15.0,28.0,...|            0|[4.29284426961493...|[0.85856885392298...|       0.0|\n",
      "|[21.0,-10.0,36.0,...|            0|[4.29284426961493...|[0.85856885392298...|       0.0|\n",
      "|[21.0,19.0,40.0,1...|            0|[0.86203527923172...|[0.17240705584634...|       1.0|\n",
      "|[21.0,39.0,27.0,1...|            1|[0.81712256901729...|[0.16342451380345...|       1.0|\n",
      "|[21.0,72.0,27.0,1...|            1|[0.81712256901729...|[0.16342451380345...|       1.0|\n",
      "|[22.0,-14.0,36.0,...|            0|[4.29284426961493...|[0.85856885392298...|       0.0|\n",
      "+--------------------+-------------+--------------------+--------------------+----------+\n",
      "only showing top 20 rows\n",
      "\n"
     ]
    }
   ],
   "source": [
    "result.show(20)"
   ]
  },
  {
   "cell_type": "code",
   "execution_count": 85,
   "metadata": {},
   "outputs": [
    {
     "data": {
      "text/plain": [
       "RandomForestClassificationModel (uid=RandomForestClassifier_46b29ae39bc1fbd6e509) with 5 trees"
      ]
     },
     "metadata": {},
     "output_type": "display_data"
    }
   ],
   "source": [
    "display(model)"
   ]
  },
  {
   "cell_type": "code",
   "execution_count": 86,
   "metadata": {},
   "outputs": [],
   "source": [
    "# treeModel = model.stages[2]"
   ]
  },
  {
   "cell_type": "code",
   "execution_count": 87,
   "metadata": {},
   "outputs": [
    {
     "name": "stdout",
     "output_type": "stream",
     "text": [
      "<function display at 0x7f61ab3b2d08>\n"
     ]
    }
   ],
   "source": [
    "print(display)"
   ]
  },
  {
   "cell_type": "code",
   "execution_count": 88,
   "metadata": {},
   "outputs": [],
   "source": [
    "#from sklearn.datasets import load_iris\n",
    "#iris = load_iris()\n",
    "\n",
    "# Model (can also use single decision tree)\n",
    "#from sklearn.ensemble import RandomForestClassifier\n",
    "#model = RandomForestClassifier(n_estimators=10)\n",
    "\n",
    "# Train\n",
    "#model.fit(['features', 'LabelArrDelay'])\n",
    "# Extract single tree\n",
    "#estimator = model.estimators_[5]\n",
    "\n",
    "#from sklearn.tree import export_graphviz\n",
    "# Export as dot file\n",
    "#export_graphviz(estimator, out_file='tree.dot', \n",
    "#                feature_names = features,\n",
    "#                class_names = LabelArrDelay,\n",
    "#                rounded = True, proportion = False, \n",
    "#                precision = 2, filled = True)\n",
    "\n",
    "# Convert to png using system command (requires Graphviz)\n",
    "#from subprocess import call\n",
    "#call(['dot', '-Tpng', 'tree.dot', '-o', 'tree.png', '-Gdpi=600'])\n",
    "\n",
    "# Display in jupyter notebook\n",
    "#from IPython.display import Image\n",
    "#Image(filename = 'tree.png')"
   ]
  },
  {
   "cell_type": "code",
   "execution_count": null,
   "metadata": {},
   "outputs": [],
   "source": []
  },
  {
   "cell_type": "markdown",
   "metadata": {},
   "source": [
    "### Evaluation RandomForestClassifier"
   ]
  },
  {
   "cell_type": "code",
   "execution_count": 89,
   "metadata": {},
   "outputs": [
    {
     "name": "stdout",
     "output_type": "stream",
     "text": [
      "Test Error = 0.168264\n"
     ]
    }
   ],
   "source": [
    "evaluator = MulticlassClassificationEvaluator(labelCol=\"LabelArrDelay\",\\\n",
    "                                    predictionCol=\"prediction\", metricName=\"accuracy\")\n",
    "accuracy = evaluator.evaluate(result)\n",
    "print(\"Test Error = %g\" % (1.0 - accuracy))"
   ]
  },
  {
   "cell_type": "code",
   "execution_count": 90,
   "metadata": {},
   "outputs": [
    {
     "name": "stdout",
     "output_type": "stream",
     "text": [
      "Accuracy :  83.17360459537005\n"
     ]
    }
   ],
   "source": [
    "Acc = accuracy*100\n",
    "print(\"Accuracy : \",Acc)"
   ]
  },
  {
   "cell_type": "code",
   "execution_count": 91,
   "metadata": {},
   "outputs": [
    {
     "name": "stdout",
     "output_type": "stream",
     "text": [
      "+-------------+----------+\n",
      "|LabelArrDelay|prediction|\n",
      "+-------------+----------+\n",
      "|            0|       0.0|\n",
      "|            0|       0.0|\n",
      "|            0|       0.0|\n",
      "|            0|       0.0|\n",
      "|            1|       1.0|\n",
      "|            0|       0.0|\n",
      "|            0|       0.0|\n",
      "|            0|       0.0|\n",
      "|            1|       1.0|\n",
      "|            0|       0.0|\n",
      "|            0|       0.0|\n",
      "|            0|       0.0|\n",
      "|            0|       1.0|\n",
      "|            1|       1.0|\n",
      "|            0|       0.0|\n",
      "|            0|       0.0|\n",
      "|            0|       1.0|\n",
      "|            1|       1.0|\n",
      "|            1|       1.0|\n",
      "|            0|       0.0|\n",
      "|            0|       0.0|\n",
      "|            0|       0.0|\n",
      "|            0|       0.0|\n",
      "|            1|       1.0|\n",
      "|            0|       0.0|\n",
      "+-------------+----------+\n",
      "only showing top 25 rows\n",
      "\n"
     ]
    }
   ],
   "source": [
    "result['LabelArrDelay', 'prediction'].show(25)"
   ]
  },
  {
   "cell_type": "code",
   "execution_count": 92,
   "metadata": {},
   "outputs": [
    {
     "name": "stdout",
     "output_type": "stream",
     "text": [
      "Requirement already satisfied: plotly in /opt/conda/lib/python3.7/site-packages (4.3.0)\n",
      "Requirement already satisfied: retrying>=1.3.3 in /opt/conda/lib/python3.7/site-packages (from plotly) (1.3.3)\n",
      "Requirement already satisfied: six in /opt/conda/lib/python3.7/site-packages (from plotly) (1.12.0)\n",
      "Requirement already satisfied: chart-studio in /opt/conda/lib/python3.7/site-packages (1.0.0)\n",
      "Requirement already satisfied: six in /opt/conda/lib/python3.7/site-packages (from chart-studio) (1.12.0)\n",
      "Requirement already satisfied: plotly in /opt/conda/lib/python3.7/site-packages (from chart-studio) (4.3.0)\n",
      "Requirement already satisfied: requests in /opt/conda/lib/python3.7/site-packages (from chart-studio) (2.22.0)\n",
      "Requirement already satisfied: retrying>=1.3.3 in /opt/conda/lib/python3.7/site-packages (from chart-studio) (1.3.3)\n",
      "Requirement already satisfied: certifi>=2017.4.17 in /opt/conda/lib/python3.7/site-packages (from requests->chart-studio) (2019.9.11)\n",
      "Requirement already satisfied: idna<2.9,>=2.5 in /opt/conda/lib/python3.7/site-packages (from requests->chart-studio) (2.8)\n",
      "Requirement already satisfied: chardet<3.1.0,>=3.0.2 in /opt/conda/lib/python3.7/site-packages (from requests->chart-studio) (3.0.4)\n",
      "Requirement already satisfied: urllib3!=1.25.0,!=1.25.1,<1.26,>=1.21.1 in /opt/conda/lib/python3.7/site-packages (from requests->chart-studio) (1.24.2)\n",
      "Requirement already satisfied: pandas in /opt/conda/lib/python3.7/site-packages (0.25.3)\n",
      "Requirement already satisfied: python-dateutil>=2.6.1 in /opt/conda/lib/python3.7/site-packages (from pandas) (2.8.1)\n",
      "Requirement already satisfied: numpy>=1.13.3 in /opt/conda/lib/python3.7/site-packages (from pandas) (1.17.3)\n",
      "Requirement already satisfied: pytz>=2017.2 in /opt/conda/lib/python3.7/site-packages (from pandas) (2019.3)\n",
      "Requirement already satisfied: six>=1.5 in /opt/conda/lib/python3.7/site-packages (from python-dateutil>=2.6.1->pandas) (1.12.0)\n"
     ]
    }
   ],
   "source": [
    "! pip install plotly\n",
    "! pip install chart-studio\n",
    "! pip install pandas"
   ]
  },
  {
   "cell_type": "markdown",
   "metadata": {},
   "source": [
    "### Confusion Matrix (Random Forest Classification)"
   ]
  },
  {
   "cell_type": "code",
   "execution_count": 96,
   "metadata": {},
   "outputs": [],
   "source": [
    "def eval_metrics(lap):\n",
    "    tp = float(len(lap[(lap['LabelArrDelay']==0) & (lap['prediction']==0)]))\n",
    "    tn = float(len(lap[(lap['LabelArrDelay']==1) & (lap['prediction']==1)]))\n",
    "    fp = float(len(lap[(lap['LabelArrDelay']==1) & (lap['prediction']==0)]))\n",
    "    fn = float(len(lap[(lap['LabelArrDelay']==0) & (lap['prediction']==1)]))\n",
    "    positivepredictivevalue = tp / (tp+fp)\n",
    "    negativepredictivevalue = tn / (tn+fn)\n",
    "    sensitivity = tp / (tp+fn)\n",
    "    specificity = tn / (tn+fp)\n",
    "    accuracy = (tp+tn) / (tp+tn+fp+fn)\n",
    "    print (\"tp: \", tp)\n",
    "    print (\"tn: \", tn)\n",
    "    print (\"fp: \", fp)\n",
    "    print (\"fn: \", fn)\n",
    "    return {'PPV': positivepredictivevalue, 'NPV':negativepredictivevalue,'Sensitivity': sensitivity, \n",
    "        'Specificity': specificity, 'Accuracy': accuracy}"
   ]
  },
  {
   "cell_type": "code",
   "execution_count": 97,
   "metadata": {},
   "outputs": [],
   "source": [
    "lap = result.select(\"LabelArrDelay\", \"prediction\").toPandas()"
   ]
  },
  {
   "cell_type": "code",
   "execution_count": 98,
   "metadata": {},
   "outputs": [
    {
     "name": "stdout",
     "output_type": "stream",
     "text": [
      "tp:  1053965.0\n",
      "tn:  658676.0\n",
      "fp:  236792.0\n",
      "fn:  109683.0\n"
     ]
    },
    {
     "data": {
      "text/plain": [
       "{'PPV': 0.8165479637143165,\n",
       " 'NPV': 0.8572503217896843,\n",
       " 'Sensitivity': 0.9057421144538554,\n",
       " 'Specificity': 0.7355662067209549,\n",
       " 'Accuracy': 0.8317360459537005}"
      ]
     },
     "execution_count": 98,
     "metadata": {},
     "output_type": "execute_result"
    }
   ],
   "source": [
    "m = eval_metrics(lap)\n",
    "m"
   ]
  },
  {
   "cell_type": "code",
   "execution_count": 99,
   "metadata": {},
   "outputs": [],
   "source": [
    "pipeline = Pipeline( stages = [rf] )"
   ]
  },
  {
   "cell_type": "code",
   "execution_count": 100,
   "metadata": {},
   "outputs": [],
   "source": [
    "#Hyperparameter tuning\n",
    "from pyspark.ml.tuning import CrossValidator, ParamGridBuilder\n",
    "paramGrid = ParamGridBuilder().addGrid(rf.maxDepth, [3, 5]).build()"
   ]
  },
  {
   "cell_type": "code",
   "execution_count": 101,
   "metadata": {},
   "outputs": [],
   "source": [
    "#Cross Validation\n",
    "from pyspark.ml.evaluation import RegressionEvaluator\n",
    "crossval = CrossValidator(estimator=pipeline, estimatorParamMaps=paramGrid, \n",
    "                          evaluator=MulticlassClassificationEvaluator(predictionCol='prediction', labelCol='LabelArrDelay', metricName='accuracy'), numFolds=2)  \n",
    "# use 3+ folds in practice"
   ]
  },
  {
   "cell_type": "code",
   "execution_count": 102,
   "metadata": {},
   "outputs": [],
   "source": [
    "cvModel = crossval.fit(train)"
   ]
  },
  {
   "cell_type": "code",
   "execution_count": 103,
   "metadata": {},
   "outputs": [],
   "source": [
    "prediction = cvModel.bestModel.transform(test)"
   ]
  },
  {
   "cell_type": "code",
   "execution_count": 104,
   "metadata": {},
   "outputs": [],
   "source": [
    "accuracy = evaluator.evaluate(prediction)\n",
    "#print(\"Test Error = %g\" % (1.0 - r2))"
   ]
  },
  {
   "cell_type": "code",
   "execution_count": 105,
   "metadata": {},
   "outputs": [
    {
     "name": "stdout",
     "output_type": "stream",
     "text": [
      "+-------------+----------+\n",
      "|LabelArrDelay|prediction|\n",
      "+-------------+----------+\n",
      "|            0|       0.0|\n",
      "|            0|       0.0|\n",
      "|            0|       0.0|\n",
      "|            0|       0.0|\n",
      "|            1|       1.0|\n",
      "|            0|       0.0|\n",
      "|            0|       0.0|\n",
      "|            0|       0.0|\n",
      "|            1|       1.0|\n",
      "|            0|       0.0|\n",
      "|            0|       0.0|\n",
      "|            0|       0.0|\n",
      "|            0|       1.0|\n",
      "|            1|       1.0|\n",
      "|            0|       0.0|\n",
      "|            0|       0.0|\n",
      "|            0|       1.0|\n",
      "|            1|       1.0|\n",
      "|            1|       1.0|\n",
      "|            0|       0.0|\n",
      "+-------------+----------+\n",
      "only showing top 20 rows\n",
      "\n"
     ]
    }
   ],
   "source": [
    "prediction['LabelArrDelay', 'prediction'].show()"
   ]
  },
  {
   "cell_type": "markdown",
   "metadata": {},
   "source": [
    "#### save file csv"
   ]
  },
  {
   "cell_type": "code",
   "execution_count": 106,
   "metadata": {},
   "outputs": [],
   "source": [
    "prediction.write.csv('gs://ku-flight/Random Forest/*', header = True )"
   ]
  },
  {
   "cell_type": "markdown",
   "metadata": {},
   "source": [
    "# Modeling DecisionTree"
   ]
  },
  {
   "cell_type": "code",
   "execution_count": 107,
   "metadata": {},
   "outputs": [],
   "source": [
    "from pyspark.ml.feature import VectorAssembler\n",
    "from pyspark.ml import Pipeline\n",
    "from pyspark.mllib.tree import RandomForest,RandomForestModel \n",
    "from pyspark.ml.classification import RandomForestClassifier\n",
    "from pyspark.ml.evaluation import MulticlassClassificationEvaluator\n",
    "from pyspark.ml.classification import DecisionTreeClassifier"
   ]
  },
  {
   "cell_type": "code",
   "execution_count": 108,
   "metadata": {},
   "outputs": [],
   "source": [
    "fetureAssembler = VectorAssembler(inputCols = ['ActualElapsedTime','DepDelay','CRSElapsedTime',\\\n",
    "                                               'AirTime','Distance','TaxiIn','TaxiOut'],\\\n",
    "                                  outputCol = 'features') #,'OriginVec','DestVec'"
   ]
  },
  {
   "cell_type": "code",
   "execution_count": 109,
   "metadata": {},
   "outputs": [],
   "source": [
    "rf = DecisionTreeClassifier( labelCol=\"LabelArrDelay\", featuresCol=\"features\" )\n",
    " \n",
    "#pipeline = Pipeline().setStages([vectorAssembler, rf])\n",
    "delay_df = fetureAssembler.transform(data)\n",
    "delay_df = delay_df.select(['features', 'LabelArrDelay'])"
   ]
  },
  {
   "cell_type": "code",
   "execution_count": 110,
   "metadata": {},
   "outputs": [],
   "source": [
    "train , test = delay_df.randomSplit([0.7,0.3])"
   ]
  },
  {
   "cell_type": "code",
   "execution_count": 111,
   "metadata": {},
   "outputs": [],
   "source": [
    "train , test = delay_df.randomSplit([0.7,0.3])"
   ]
  },
  {
   "cell_type": "code",
   "execution_count": 112,
   "metadata": {},
   "outputs": [],
   "source": [
    "model2 = rf.fit(train)"
   ]
  },
  {
   "cell_type": "code",
   "execution_count": 113,
   "metadata": {},
   "outputs": [],
   "source": [
    "result = model2.transform(test)"
   ]
  },
  {
   "cell_type": "code",
   "execution_count": 114,
   "metadata": {},
   "outputs": [
    {
     "name": "stdout",
     "output_type": "stream",
     "text": [
      "+--------------------+-------------+--------------------+--------------------+----------+\n",
      "|            features|LabelArrDelay|       rawPrediction|         probability|prediction|\n",
      "+--------------------+-------------+--------------------+--------------------+----------+\n",
      "|[16.0,-36.0,31.0,...|            0|[1371645.0,128771.0]|[0.91417646839276...|       0.0|\n",
      "|[17.0,-21.0,32.0,...|            0|[1371645.0,128771.0]|[0.91417646839276...|       0.0|\n",
      "|[17.0,-13.0,28.0,...|            0|[1371645.0,128771.0]|[0.91417646839276...|       0.0|\n",
      "|[17.0,48.0,34.0,7...|            1|    [464.0,518601.0]|[8.93915020276843...|       1.0|\n",
      "|[18.0,-13.0,28.0,...|            0|[1371645.0,128771.0]|[0.91417646839276...|       0.0|\n",
      "|[18.0,-5.0,27.0,9...|            0|[1371645.0,128771.0]|[0.91417646839276...|       0.0|\n",
      "|[18.0,1.0,28.0,12...|            0|  [337963.0,99630.0]|[0.77232268340672...|       0.0|\n",
      "|[18.0,59.0,27.0,9...|            1|    [464.0,518601.0]|[8.93915020276843...|       1.0|\n",
      "|[19.0,-9.0,27.0,7...|            0|[1371645.0,128771.0]|[0.91417646839276...|       0.0|\n",
      "|[19.0,-1.0,27.0,9...|            0|[1371645.0,128771.0]|[0.91417646839276...|       0.0|\n",
      "|[19.0,2.0,27.0,14...|            0|  [337963.0,99630.0]|[0.77232268340672...|       0.0|\n",
      "|[20.0,-21.0,27.0,...|            0|[1371645.0,128771.0]|[0.91417646839276...|       0.0|\n",
      "|[20.0,-16.0,27.0,...|            0|[1371645.0,128771.0]|[0.91417646839276...|       0.0|\n",
      "|[20.0,-15.0,27.0,...|            0|[1371645.0,128771.0]|[0.91417646839276...|       0.0|\n",
      "|[20.0,-13.0,27.0,...|            0|[1371645.0,128771.0]|[0.91417646839276...|       0.0|\n",
      "|[20.0,-5.0,30.0,1...|            0|[1371645.0,128771.0]|[0.91417646839276...|       0.0|\n",
      "|[20.0,7.0,27.0,9....|            0|   [13218.0,25390.0]|[0.34236427683381...|       1.0|\n",
      "|[21.0,-20.0,31.0,...|            0|[1371645.0,128771.0]|[0.91417646839276...|       0.0|\n",
      "|[21.0,-15.0,28.0,...|            0|[1371645.0,128771.0]|[0.91417646839276...|       0.0|\n",
      "|[21.0,-8.0,28.0,1...|            0|[1371645.0,128771.0]|[0.91417646839276...|       0.0|\n",
      "+--------------------+-------------+--------------------+--------------------+----------+\n",
      "only showing top 20 rows\n",
      "\n"
     ]
    }
   ],
   "source": [
    "result.show()"
   ]
  },
  {
   "cell_type": "code",
   "execution_count": 115,
   "metadata": {},
   "outputs": [
    {
     "data": {
      "text/plain": [
       "DataFrame[features: vector, LabelArrDelay: int, rawPrediction: vector, probability: vector, prediction: double]"
      ]
     },
     "execution_count": 115,
     "metadata": {},
     "output_type": "execute_result"
    }
   ],
   "source": [
    "result"
   ]
  },
  {
   "cell_type": "code",
   "execution_count": 116,
   "metadata": {},
   "outputs": [
    {
     "data": {
      "text/plain": [
       "DecisionTreeClassificationModel (uid=DecisionTreeClassifier_48a6894e321bc4c8d92c) of depth 5 with 63 nodes"
      ]
     },
     "metadata": {},
     "output_type": "display_data"
    }
   ],
   "source": [
    "display(model2)"
   ]
  },
  {
   "cell_type": "code",
   "execution_count": 117,
   "metadata": {
    "scrolled": true
   },
   "outputs": [
    {
     "name": "stdout",
     "output_type": "stream",
     "text": [
      "+-------+----------+-------+----------+-----------------+--------------+-------+--------+--------+------+----+--------+------+-------+------------+------------+--------+-------------+-----------------+-------------+\n",
      "|DepTime|CRSDepTime|ArrTime|CRSArrTime|ActualElapsedTime|CRSElapsedTime|AirTime|ArrDelay|DepDelay|Origin|Dest|Distance|TaxiIn|TaxiOut|CarrierDelay|WeatherDelay|NASDelay|SecurityDelay|LateAircraftDelay|LabelArrDelay|\n",
      "+-------+----------+-------+----------+-----------------+--------------+-------+--------+--------+------+----+--------+------+-------+------------+------------+--------+-------------+-----------------+-------------+\n",
      "|   2003|      1955|   2211|      2225|              128|           150|    116|     -14|       8|   IAD| TPA|     810|     4|      8|           0|           0|       0|            0|                0|            0|\n",
      "|    754|       735|   1002|      1000|              128|           145|    113|       2|      19|   IAD| TPA|     810|     5|     10|           0|           0|       0|            0|                0|            1|\n",
      "|    628|       620|    804|       750|               96|            90|     76|      14|       8|   IND| BWI|     515|     3|     17|           0|           0|       0|            0|                0|            1|\n",
      "|    926|       930|   1054|      1100|               88|            90|     78|      -6|      -4|   IND| BWI|     515|     3|      7|           0|           0|       0|            0|                0|            0|\n",
      "|   1829|      1755|   1959|      1925|               90|            90|     77|      34|      34|   IND| BWI|     515|     3|     10|           2|           0|       0|            0|               32|            1|\n",
      "|   1940|      1915|   2121|      2110|              101|           115|     87|      11|      25|   IND| JAX|     688|     4|     10|           0|           0|       0|            0|                0|            1|\n",
      "|   1937|      1830|   2037|      1940|              240|           250|    230|      57|      67|   IND| LAS|    1591|     3|      7|          10|           0|       0|            0|               47|            1|\n",
      "|   1039|      1040|   1132|      1150|              233|           250|    219|     -18|      -1|   IND| LAS|    1591|     7|      7|           0|           0|       0|            0|                0|            0|\n",
      "|    617|       615|    652|       650|               95|            95|     70|       2|       2|   IND| MCI|     451|     6|     19|           0|           0|       0|            0|                0|            1|\n",
      "|   1620|      1620|   1639|      1655|               79|            95|     70|     -16|       0|   IND| MCI|     451|     3|      6|           0|           0|       0|            0|                0|            0|\n",
      "|    706|       700|    916|       915|              130|           135|    106|       1|       6|   IND| MCO|     828|     5|     19|           0|           0|       0|            0|                0|            1|\n",
      "|   1644|      1510|   1845|      1725|              121|           135|    107|      80|      94|   IND| MCO|     828|     6|      8|           8|           0|       0|            0|               72|            1|\n",
      "|   1426|      1430|   1426|      1425|               60|            55|     39|       1|      -4|   IND| MDW|     162|     9|     12|           0|           0|       0|            0|                0|            1|\n",
      "|    715|       715|    720|       710|               65|            55|     37|      10|       0|   IND| MDW|     162|     7|     21|           0|           0|       0|            0|                0|            1|\n",
      "|   1702|      1700|   1651|      1655|               49|            55|     35|      -4|       2|   IND| MDW|     162|     4|     10|           0|           0|       0|            0|                0|            0|\n",
      "|   1029|      1020|   1021|      1010|               52|            50|     37|      11|       9|   IND| MDW|     162|     6|      9|           0|           0|       0|            0|                0|            1|\n",
      "|   1452|      1425|   1640|      1625|              228|           240|    213|      15|      27|   IND| PHX|    1489|     7|      8|           3|           0|       0|            0|               12|            1|\n",
      "|    754|       745|    940|       955|              226|           250|    205|     -15|       9|   IND| PHX|    1489|     5|     16|           0|           0|       0|            0|                0|            0|\n",
      "|   1323|      1255|   1526|      1510|              123|           135|    110|      16|      28|   IND| TPA|     838|     4|      9|           0|           0|       0|            0|               16|            1|\n",
      "|   1416|      1325|   1512|      1435|               56|            70|     49|      37|      51|   ISP| BWI|     220|     2|      5|          12|           0|       0|            0|               25|            1|\n",
      "+-------+----------+-------+----------+-----------------+--------------+-------+--------+--------+------+----+--------+------+-------+------------+------------+--------+-------------+-----------------+-------------+\n",
      "only showing top 20 rows\n",
      "\n"
     ]
    }
   ],
   "source": [
    "data.show()"
   ]
  },
  {
   "cell_type": "code",
   "execution_count": 118,
   "metadata": {},
   "outputs": [
    {
     "name": "stdout",
     "output_type": "stream",
     "text": [
      "Collecting package metadata (current_repodata.json): done\n",
      "Solving environment: done\n",
      "\n",
      "# All requested packages already installed.\n",
      "\n",
      "\n",
      "Note: you may need to restart the kernel to use updated packages.\n"
     ]
    }
   ],
   "source": [
    "conda install matplotlib"
   ]
  },
  {
   "cell_type": "code",
   "execution_count": 119,
   "metadata": {},
   "outputs": [
    {
     "name": "stdout",
     "output_type": "stream",
     "text": [
      "Requirement already satisfied: matplotlib in /opt/conda/lib/python3.7/site-packages (3.1.1)\n",
      "Requirement already satisfied: cycler>=0.10 in /opt/conda/lib/python3.7/site-packages (from matplotlib) (0.10.0)\n",
      "Requirement already satisfied: kiwisolver>=1.0.1 in /opt/conda/lib/python3.7/site-packages (from matplotlib) (1.1.0)\n",
      "Requirement already satisfied: pyparsing!=2.0.4,!=2.1.2,!=2.1.6,>=2.0.1 in /opt/conda/lib/python3.7/site-packages (from matplotlib) (2.4.4)\n",
      "Requirement already satisfied: python-dateutil>=2.1 in /opt/conda/lib/python3.7/site-packages (from matplotlib) (2.8.1)\n",
      "Requirement already satisfied: numpy>=1.11 in /opt/conda/lib/python3.7/site-packages (from matplotlib) (1.17.3)\n",
      "Requirement already satisfied: six in /opt/conda/lib/python3.7/site-packages (from cycler>=0.10->matplotlib) (1.12.0)\n",
      "Requirement already satisfied: setuptools in /opt/conda/lib/python3.7/site-packages (from kiwisolver>=1.0.1->matplotlib) (41.0.1)\n"
     ]
    }
   ],
   "source": [
    "! pip install matplotlib"
   ]
  },
  {
   "cell_type": "code",
   "execution_count": 120,
   "metadata": {},
   "outputs": [
    {
     "name": "stdout",
     "output_type": "stream",
     "text": [
      "Requirement already satisfied: pydot in /opt/conda/lib/python3.7/site-packages (1.4.1)\n",
      "Requirement already satisfied: pyparsing>=2.1.4 in /opt/conda/lib/python3.7/site-packages (from pydot) (2.4.4)\n",
      "Requirement already satisfied: pydotplus in /opt/conda/lib/python3.7/site-packages (2.0.2)\n",
      "Requirement already satisfied: pyparsing>=2.0.1 in /opt/conda/lib/python3.7/site-packages (from pydotplus) (2.4.4)\n",
      "Requirement already satisfied: sklearn in /opt/conda/lib/python3.7/site-packages (0.0)\n",
      "Requirement already satisfied: scikit-learn in /opt/conda/lib/python3.7/site-packages (from sklearn) (0.21.3)\n",
      "Requirement already satisfied: scipy>=0.17.0 in /opt/conda/lib/python3.7/site-packages (from scikit-learn->sklearn) (1.3.3)\n",
      "Requirement already satisfied: joblib>=0.11 in /opt/conda/lib/python3.7/site-packages (from scikit-learn->sklearn) (0.14.0)\n",
      "Requirement already satisfied: numpy>=1.11.0 in /opt/conda/lib/python3.7/site-packages (from scikit-learn->sklearn) (1.17.3)\n",
      "Requirement already satisfied: IPython in /opt/conda/lib/python3.7/site-packages (7.9.0)\n",
      "Requirement already satisfied: prompt-toolkit<2.1.0,>=2.0.0 in /opt/conda/lib/python3.7/site-packages (from IPython) (2.0.10)\n",
      "Requirement already satisfied: traitlets>=4.2 in /opt/conda/lib/python3.7/site-packages (from IPython) (4.3.3)\n",
      "Requirement already satisfied: backcall in /opt/conda/lib/python3.7/site-packages (from IPython) (0.1.0)\n",
      "Requirement already satisfied: pygments in /opt/conda/lib/python3.7/site-packages (from IPython) (2.4.2)\n",
      "Requirement already satisfied: pickleshare in /opt/conda/lib/python3.7/site-packages (from IPython) (0.7.5)\n",
      "Requirement already satisfied: pexpect; sys_platform != \"win32\" in /opt/conda/lib/python3.7/site-packages (from IPython) (4.7.0)\n",
      "Requirement already satisfied: decorator in /opt/conda/lib/python3.7/site-packages (from IPython) (4.4.1)\n",
      "Requirement already satisfied: setuptools>=18.5 in /opt/conda/lib/python3.7/site-packages (from IPython) (41.0.1)\n",
      "Requirement already satisfied: jedi>=0.10 in /opt/conda/lib/python3.7/site-packages (from IPython) (0.15.1)\n",
      "Requirement already satisfied: six>=1.9.0 in /opt/conda/lib/python3.7/site-packages (from prompt-toolkit<2.1.0,>=2.0.0->IPython) (1.12.0)\n",
      "Requirement already satisfied: wcwidth in /opt/conda/lib/python3.7/site-packages (from prompt-toolkit<2.1.0,>=2.0.0->IPython) (0.1.7)\n",
      "Requirement already satisfied: ipython-genutils in /opt/conda/lib/python3.7/site-packages (from traitlets>=4.2->IPython) (0.2.0)\n",
      "Requirement already satisfied: ptyprocess>=0.5 in /opt/conda/lib/python3.7/site-packages (from pexpect; sys_platform != \"win32\"->IPython) (0.6.0)\n",
      "Requirement already satisfied: parso>=0.5.0 in /opt/conda/lib/python3.7/site-packages (from jedi>=0.10->IPython) (0.5.1)\n",
      "Requirement already satisfied: graphviz in /opt/conda/lib/python3.7/site-packages (0.13.2)\n"
     ]
    }
   ],
   "source": [
    "! pip install pydot\n",
    "! pip install pydotplus\n",
    "! pip install sklearn\n",
    "! pip install IPython\n",
    "! pip install graphviz"
   ]
  },
  {
   "cell_type": "code",
   "execution_count": 121,
   "metadata": {},
   "outputs": [
    {
     "name": "stderr",
     "output_type": "stream",
     "text": [
      "/opt/conda/lib/python3.7/site-packages/sklearn/externals/six.py:31: DeprecationWarning: The module is deprecated in version 0.21 and will be removed in version 0.23 since we've dropped support for Python 2.7. Please rely on the official version of six (https://pypi.org/project/six/).\n",
      "  \"(https://pypi.org/project/six/).\", DeprecationWarning)\n"
     ]
    }
   ],
   "source": [
    "from sklearn.tree import DecisionTreeClassifier\n",
    "import sklearn.datasets as datasets\n",
    "from sklearn.externals.six import StringIO\n",
    "from sklearn.tree import export_graphviz\n",
    "\n",
    "import pandas as pd\n",
    "import pydotplus\n",
    "\n",
    "from IPython.display import Image"
   ]
  },
  {
   "cell_type": "code",
   "execution_count": 122,
   "metadata": {},
   "outputs": [],
   "source": [
    "# from spark_tree_plotting import generate_tree_json\n",
    "\n",
    "# tree_json = generate_tree_json(DecisionTreeClassifier_4dcaa2cc54af86f85041,\n",
    "#                                withNodeIDs=True # each tree with node ID\n",
    "#                               )"
   ]
  },
  {
   "cell_type": "code",
   "execution_count": 123,
   "metadata": {},
   "outputs": [
    {
     "data": {
      "text/plain": [
       "DecisionTreeClassifier(class_weight=None, criterion='gini', max_depth=None,\n",
       "                       max_features=None, max_leaf_nodes=None,\n",
       "                       min_impurity_decrease=0.0, min_impurity_split=None,\n",
       "                       min_samples_leaf=1, min_samples_split=2,\n",
       "                       min_weight_fraction_leaf=0.0, presort=False,\n",
       "                       random_state=None, splitter='best')"
      ]
     },
     "execution_count": 123,
     "metadata": {},
     "output_type": "execute_result"
    }
   ],
   "source": [
    "iris = datasets.load_iris()\n",
    "df = pd.DataFrame(iris.data, columns=iris.feature_names)\n",
    "y = iris.target\n",
    "dtree = DecisionTreeClassifier()\n",
    "dtree.fit(df,y)"
   ]
  },
  {
   "cell_type": "code",
   "execution_count": 124,
   "metadata": {},
   "outputs": [
    {
     "data": {
      "image/png": "[encoded data removed]",
      "text/plain": [
       "<IPython.core.display.Image object>"
      ]
     },
     "execution_count": 124,
     "metadata": {},
     "output_type": "execute_result"
    }
   ],
   "source": [
    "dot_data = StringIO()\n",
    "export_graphviz(\n",
    "    dtree, \n",
    "    out_file = dot_data,\n",
    "    filled = True, \n",
    "    rounded = True,\n",
    "    special_characters = True\n",
    ")\n",
    "graph_1 = pydotplus.graph_from_dot_data(dot_data.getvalue())\n",
    "Image(graph_1.create_png())"
   ]
  },
  {
   "cell_type": "code",
   "execution_count": 125,
   "metadata": {},
   "outputs": [],
   "source": [
    "# iris = data\n",
    "# df = pd.DataFrame(data.data, columns=data.features)\n",
    "# y = data.LabelArrDelay\n",
    "# dtree = DecisionTreeClassifier(DecisionTreeClassifier_4dcaa2cc54af86f85041)\n",
    "# dtree.fit(df,y)"
   ]
  },
  {
   "cell_type": "code",
   "execution_count": 126,
   "metadata": {},
   "outputs": [],
   "source": [
    "# dot_data = StringIO()\n",
    "# export_graphviz(\n",
    "#    model, \n",
    "#    out_file = dot_data,\n",
    "#    filled = True, \n",
    "#    rounded = True,\n",
    "#    special_characters = True\n",
    "#)\n",
    "#graph_1 = pydotplus.graph_from_dot_data(dot_data.getvalue())\n",
    "#Image(graph_1.create_png())"
   ]
  },
  {
   "cell_type": "markdown",
   "metadata": {},
   "source": [
    "## Evaluation DecisionTree "
   ]
  },
  {
   "cell_type": "code",
   "execution_count": 127,
   "metadata": {},
   "outputs": [
    {
     "name": "stdout",
     "output_type": "stream",
     "text": [
      "Test Error = 0.171112\n"
     ]
    }
   ],
   "source": [
    "evaluator = MulticlassClassificationEvaluator(labelCol=\"LabelArrDelay\"\\\n",
    "                    , predictionCol=\"prediction\", metricName=\"accuracy\")\n",
    "\n",
    "accuracy = evaluator.evaluate(result)\n",
    "print(\"Test Error = %g\" % (1.0 - accuracy))"
   ]
  },
  {
   "cell_type": "code",
   "execution_count": 128,
   "metadata": {},
   "outputs": [
    {
     "name": "stdout",
     "output_type": "stream",
     "text": [
      "Accuracy :  82.88876385971858\n"
     ]
    }
   ],
   "source": [
    "Acc = accuracy*100\n",
    "print(\"Accuracy : \",Acc)"
   ]
  },
  {
   "cell_type": "code",
   "execution_count": 129,
   "metadata": {},
   "outputs": [
    {
     "name": "stdout",
     "output_type": "stream",
     "text": [
      "+-------------+----------+\n",
      "|LabelArrDelay|prediction|\n",
      "+-------------+----------+\n",
      "|            0|       0.0|\n",
      "|            0|       0.0|\n",
      "|            0|       0.0|\n",
      "|            1|       1.0|\n",
      "|            0|       0.0|\n",
      "|            0|       0.0|\n",
      "|            0|       0.0|\n",
      "|            1|       1.0|\n",
      "|            0|       0.0|\n",
      "|            0|       0.0|\n",
      "|            0|       0.0|\n",
      "|            0|       0.0|\n",
      "|            0|       0.0|\n",
      "|            0|       0.0|\n",
      "|            0|       0.0|\n",
      "|            0|       0.0|\n",
      "|            0|       1.0|\n",
      "|            0|       0.0|\n",
      "|            0|       0.0|\n",
      "|            0|       0.0|\n",
      "|            0|       0.0|\n",
      "|            0|       0.0|\n",
      "|            0|       0.0|\n",
      "|            0|       0.0|\n",
      "|            1|       1.0|\n",
      "+-------------+----------+\n",
      "only showing top 25 rows\n",
      "\n"
     ]
    }
   ],
   "source": [
    "result['LabelArrDelay', 'prediction'].show(25)"
   ]
  },
  {
   "cell_type": "markdown",
   "metadata": {},
   "source": [
    "#### save file prediction"
   ]
  },
  {
   "cell_type": "code",
   "execution_count": 130,
   "metadata": {},
   "outputs": [],
   "source": [
    "prediction.write.csv('gs://ku-flight/Decision Tree/*', header = True )"
   ]
  },
  {
   "cell_type": "code",
   "execution_count": 131,
   "metadata": {},
   "outputs": [
    {
     "name": "stdout",
     "output_type": "stream",
     "text": [
      "DecisionTreeClassificationModel (uid=DecisionTreeClassifier_48a6894e321bc4c8d92c) of depth 5 with 63 nodes\n"
     ]
    }
   ],
   "source": [
    "print(model2)"
   ]
  },
  {
   "cell_type": "markdown",
   "metadata": {},
   "source": [
    "### Confusion Matrix (DecisionTree Classification)"
   ]
  },
  {
   "cell_type": "code",
   "execution_count": 133,
   "metadata": {},
   "outputs": [],
   "source": [
    "def eval_metrics(lap):\n",
    "    tp = float(len(lap[(lap['LabelArrDelay']==0) & (lap['prediction']==0)]))\n",
    "    tn = float(len(lap[(lap['LabelArrDelay']==1) & (lap['prediction']==1)]))\n",
    "    fp = float(len(lap[(lap['LabelArrDelay']==1) & (lap['prediction']==0)]))\n",
    "    fn = float(len(lap[(lap['LabelArrDelay']==0) & (lap['prediction']==1)]))\n",
    "    positivepredictivevalue = tp / (tp+fp)\n",
    "    negativepredictivevalue = tn / (tn+fn)\n",
    "    sensitivity = tp / (tp+fn)\n",
    "    specificity = tn / (tn+fp)\n",
    "    accuracy = (tp+tn) / (tp+tn+fp+fn)\n",
    "    print (\"tp: \", tp)\n",
    "    print (\"tn: \", tn)\n",
    "    print (\"fp: \", fp)\n",
    "    print (\"fn: \", fn)\n",
    "    return {'PPV': positivepredictivevalue, 'NPV':negativepredictivevalue,'Sensitivity': sensitivity, \\\n",
    "        'Specificity': specificity, 'Accuracy': accuracy}"
   ]
  },
  {
   "cell_type": "code",
   "execution_count": 134,
   "metadata": {},
   "outputs": [],
   "source": [
    "lap = result.select(\"LabelArrDelay\", \"prediction\").toPandas()"
   ]
  },
  {
   "cell_type": "code",
   "execution_count": 135,
   "metadata": {},
   "outputs": [
    {
     "name": "stdout",
     "output_type": "stream",
     "text": [
      "tp:  1059869.0\n",
      "tn:  644663.0\n",
      "fp:  248974.0\n",
      "fn:  102903.0\n"
     ]
    },
    {
     "data": {
      "text/plain": [
       "{'PPV': 0.8097755040138505,\n",
       " 'NPV': 0.8623492775219846,\n",
       " 'Sensitivity': 0.911501996952111,\n",
       " 'Specificity': 0.7213924669636552,\n",
       " 'Accuracy': 0.8288876385971857}"
      ]
     },
     "execution_count": 135,
     "metadata": {},
     "output_type": "execute_result"
    }
   ],
   "source": [
    "m = eval_metrics(lap)\n",
    "m "
   ]
  },
  {
   "cell_type": "markdown",
   "metadata": {},
   "source": [
    "## Modeling Naive Bayes"
   ]
  },
  {
   "cell_type": "code",
   "execution_count": 136,
   "metadata": {},
   "outputs": [],
   "source": [
    "from pyspark.ml.classification import NaiveBayes\n",
    "from pyspark.ml.evaluation import MulticlassClassificationEvaluator\n",
    "from pyspark.mllib.classification import NaiveBayes, NaiveBayesModel\n",
    "from pyspark.mllib.util import MLUtils"
   ]
  },
  {
   "cell_type": "code",
   "execution_count": 141,
   "metadata": {},
   "outputs": [],
   "source": [
    "fetureAssembler2 = VectorAssembler(inputCols = ['ActualElapsedTime','DepDelay','CRSElapsedTime',\\\n",
    "                                               'AirTime','Distance','TaxiIn','TaxiOut'],\\\n",
    "                                  outputCol = 'features') #,'OriginVec','DestVec'"
   ]
  },
  {
   "cell_type": "code",
   "execution_count": 142,
   "metadata": {},
   "outputs": [],
   "source": [
    "#data = MLUtils.loadLibSVMFile(sc, \"data/mllib/sample_libsvm_data.txt\")"
   ]
  },
  {
   "cell_type": "code",
   "execution_count": 149,
   "metadata": {},
   "outputs": [],
   "source": [
    "training, test = data.randomSplit([0.6, 0.4])\n",
    "\n",
    "# Train a NaiveBayes model\n",
    "nb = NaiveBayes(smoothing=1.0, modelType=\"multinomial\")\n",
    "\n",
    "# Chain labelIndexer, vecAssembler and NBmodel in a \n",
    "pipeline = Pipeline(stages=[labelIndexer, fetureAssembler2, nb])\n",
    "\n",
    "# Run stages in pipeline and train model\n",
    "model = pipeline.fit(training)"
   ]
  },
  {
   "cell_type": "code",
   "execution_count": 152,
   "metadata": {},
   "outputs": [],
   "source": [
    "result = model2.transform(test)"
   ]
  },
  {
   "cell_type": "code",
   "execution_count": 153,
   "metadata": {},
   "outputs": [
    {
     "name": "stdout",
     "output_type": "stream",
     "text": [
      "+--------------------+-------------+--------------------+--------------------+----------+\n",
      "|            features|LabelArrDelay|       rawPrediction|         probability|prediction|\n",
      "+--------------------+-------------+--------------------+--------------------+----------+\n",
      "|[15.0,24.0,47.0,1...|            0|[0.82771581039629...|[0.16554316207925...|       1.0|\n",
      "|[18.0,-14.0,28.0,...|            0|[4.30410198356909...|[0.86082039671381...|       0.0|\n",
      "|[18.0,-3.0,28.0,9...|            0|[4.16553723221555...|[0.83310744644311...|       0.0|\n",
      "|[19.0,-1.0,27.0,9...|            0|[4.16553723221555...|[0.83310744644311...|       0.0|\n",
      "|[19.0,27.0,27.0,1...|            1|[0.82771581039629...|[0.16554316207925...|       1.0|\n",
      "|[19.0,47.0,27.0,9...|            1|[0.82771581039629...|[0.16554316207925...|       1.0|\n",
      "|[20.0,-36.0,31.0,...|            0|[4.30410198356909...|[0.86082039671381...|       0.0|\n",
      "|[20.0,-21.0,27.0,...|            0|[4.30410198356909...|[0.86082039671381...|       0.0|\n",
      "|[20.0,-15.0,27.0,...|            0|[4.30410198356909...|[0.86082039671381...|       0.0|\n",
      "|[20.0,-13.0,27.0,...|            0|[4.30410198356909...|[0.86082039671381...|       0.0|\n",
      "|[20.0,-5.0,30.0,1...|            0|[4.30410198356909...|[0.86082039671381...|       0.0|\n",
      "|[20.0,7.0,27.0,9....|            0|[1.54279008593523...|[0.30855801718704...|       1.0|\n",
      "|[21.0,-17.0,27.0,...|            0|[4.30410198356909...|[0.86082039671381...|       0.0|\n",
      "|[21.0,-1.0,34.0,1...|            0|[4.16553723221555...|[0.83310744644311...|       0.0|\n",
      "|[21.0,6.0,27.0,15...|            0|[2.99711981709121...|[0.59942396341824...|       0.0|\n",
      "|[21.0,19.0,40.0,1...|            0|[0.87416969677390...|[0.17483393935478...|       1.0|\n",
      "|[21.0,60.0,39.0,1...|            1|[0.82771581039629...|[0.16554316207925...|       1.0|\n",
      "|[22.0,-13.0,28.0,...|            0|[4.30410198356909...|[0.86082039671381...|       0.0|\n",
      "|[22.0,-13.0,32.0,...|            0|[4.30410198356909...|[0.86082039671381...|       0.0|\n",
      "|[22.0,-9.0,42.0,1...|            0|[4.30410198356909...|[0.86082039671381...|       0.0|\n",
      "+--------------------+-------------+--------------------+--------------------+----------+\n",
      "only showing top 20 rows\n",
      "\n"
     ]
    }
   ],
   "source": [
    "result.show()"
   ]
  },
  {
   "cell_type": "markdown",
   "metadata": {},
   "source": [
    "### Evaluation Naive Bayes"
   ]
  },
  {
   "cell_type": "code",
   "execution_count": 154,
   "metadata": {},
   "outputs": [
    {
     "name": "stdout",
     "output_type": "stream",
     "text": [
      "Test Error = 0.168724\n"
     ]
    }
   ],
   "source": [
    "evaluator = MulticlassClassificationEvaluator(labelCol=\"LabelArrDelay\"\\\n",
    "                    , predictionCol=\"prediction\", metricName=\"accuracy\")\n",
    "\n",
    "accuracy = evaluator.evaluate(result)\n",
    "print(\"Test Error = %g\" % (1.0 - accuracy))"
   ]
  },
  {
   "cell_type": "code",
   "execution_count": 155,
   "metadata": {},
   "outputs": [
    {
     "name": "stdout",
     "output_type": "stream",
     "text": [
      "Test set accuracy = 0.8312758181392379\n"
     ]
    }
   ],
   "source": [
    "Acc = accuracy*100\n",
    "print(\"Test set accuracy = \" + str(accuracy))"
   ]
  },
  {
   "cell_type": "markdown",
   "metadata": {},
   "source": [
    "### Confusion Matrix (Naive Bayes)"
   ]
  },
  {
   "cell_type": "code",
   "execution_count": 156,
   "metadata": {},
   "outputs": [],
   "source": [
    "def eval_metrics(lap):\n",
    "    tp = float(len(lap[(lap['LabelArrDelay']==0) & (lap['prediction']==0)]))\n",
    "    tn = float(len(lap[(lap['LabelArrDelay']==1) & (lap['prediction']==1)]))\n",
    "    fp = float(len(lap[(lap['LabelArrDelay']==1) & (lap['prediction']==0)]))\n",
    "    fn = float(len(lap[(lap['LabelArrDelay']==0) & (lap['prediction']==1)]))\n",
    "    positivepredictivevalue = tp / (tp+fp)\n",
    "    negativepredictivevalue = tn / (tn+fn)\n",
    "    sensitivity = tp / (tp+fn)\n",
    "    specificity = tn / (tn+fp)\n",
    "    accuracy = (tp+tn) / (tp+tn+fp+fn)\n",
    "    print (\"tp: \", tp)\n",
    "    print (\"tn: \", tn)\n",
    "    print (\"fp: \", fp)\n",
    "    print (\"fn: \", fn)\n",
    "    return {'PPV': positivepredictivevalue, 'NPV':negativepredictivevalue,'Sensitivity': sensitivity, \\\n",
    "        'Specificity': specificity, 'Accuracy': accuracy}"
   ]
  },
  {
   "cell_type": "code",
   "execution_count": 157,
   "metadata": {},
   "outputs": [],
   "source": [
    "lap = result.select(\"LabelArrDelay\", \"prediction\").toPandas()"
   ]
  },
  {
   "cell_type": "code",
   "execution_count": 158,
   "metadata": {},
   "outputs": [
    {
     "name": "stdout",
     "output_type": "stream",
     "text": [
      "tp:  1052283.0\n",
      "tn:  658604.0\n",
      "fp:  236465.0\n",
      "fn:  110794.0\n"
     ]
    },
    {
     "data": {
      "text/plain": [
       "{'PPV': 0.8165157191320569,\n",
       " 'NPV': 0.8559991057944003,\n",
       " 'Sensitivity': 0.9047406147658323,\n",
       " 'Specificity': 0.7358136635276163,\n",
       " 'Accuracy': 0.8312758181392379}"
      ]
     },
     "execution_count": 158,
     "metadata": {},
     "output_type": "execute_result"
    }
   ],
   "source": [
    "m = eval_metrics(lap)\n",
    "m "
   ]
  },
  {
   "cell_type": "markdown",
   "metadata": {},
   "source": [
    "#### save file prediction"
   ]
  },
  {
   "cell_type": "code",
   "execution_count": 159,
   "metadata": {},
   "outputs": [],
   "source": [
    "prediction.write.csv('gs://ku-flight/Naive Bayes/*', header = True )"
   ]
  },
  {
   "cell_type": "code",
   "execution_count": null,
   "metadata": {},
   "outputs": [],
   "source": []
  },
  {
   "cell_type": "code",
   "execution_count": null,
   "metadata": {},
   "outputs": [],
   "source": []
  },
  {
   "cell_type": "code",
   "execution_count": null,
   "metadata": {},
   "outputs": [],
   "source": []
  },
  {
   "cell_type": "code",
   "execution_count": null,
   "metadata": {},
   "outputs": [],
   "source": [
    "from sklearn.datasets import load_iris\n",
    "iris = load_iris()\n",
    "\n",
    "# Model (can also use single decision tree)\n",
    "from sklearn.ensemble import RandomForestClassifier\n",
    "model = RandomForestClassifier(n_estimators=10)\n",
    "\n",
    "# Train\n",
    "model.fit(iris.data, iris.target)\n",
    "# Extract single tree\n",
    "estimator = model.estimators_[5]\n",
    "\n",
    "from sklearn.tree import export_graphviz\n",
    "# Export as dot file\n",
    "export_graphviz(estimator, out_file='tree.dot', \n",
    "                feature_names = iris.feature_names,\n",
    "                class_names = iris.target_names,\n",
    "                rounded = True, proportion = False, \n",
    "                precision = 2, filled = True)\n",
    "\n",
    "# Convert to png using system command (requires Graphviz)\n",
    "from subprocess import call\n",
    "call(['dot', '-Tpng', 'tree.dot', '-o', 'tree.png', '-Gdpi=600'])\n",
    "\n",
    "# Display in jupyter notebook\n",
    "from IPython.display import Image\n",
    "Image(filename = 'tree.png')"
   ]
  },
  {
   "cell_type": "code",
   "execution_count": null,
   "metadata": {},
   "outputs": [],
   "source": [
    "trainingDF = spark.read.format(\"libsvm\").load(\"/databricks-datasets/mnist-digits/data-001/mnist-digits-train.txt\").cache()\n",
    "testDF = spark.read.format(\"libsvm\").load(\"/databricks-datasets/mnist-digits/data-001/mnist-digits-test.txt\").cache()\n",
    "\n",
    "from pyspark.ml.classification import DecisionTreeClassifier\n",
    "from pyspark.ml.feature import StringIndexer\n",
    "from pyspark.ml import Pipeline\n",
    "\n",
    "indexer = StringIndexer().setInputCol(\"label\").setOutputCol(\"indexedLabel\")\n",
    "\n",
    "dtc = DecisionTreeClassifier().setLabelCol(\"indexedLabel\")\n",
    "\n",
    "# Chain indexer + dtc together into a single ML Pipeline.\n",
    "pipeline = Pipeline().setStages([indexer, dtc])\n",
    "\n",
    "model = pipeline.fit(trainingDF)\n",
    "display(model.stages[-1])"
   ]
  },
  {
   "cell_type": "code",
   "execution_count": null,
   "metadata": {},
   "outputs": [],
   "source": []
  }
 ],
 "metadata": {
  "kernelspec": {
   "display_name": "PySpark",
   "language": "python",
   "name": "pyspark"
  },
  "language_info": {
   "codemirror_mode": {
    "name": "ipython",
    "version": 3
   },
   "file_extension": ".py",
   "mimetype": "text/x-python",
   "name": "python",
   "nbconvert_exporter": "python",
   "pygments_lexer": "ipython3",
   "version": "3.7.3"
  }
 },
 "nbformat": 4,
 "nbformat_minor": 2
}
